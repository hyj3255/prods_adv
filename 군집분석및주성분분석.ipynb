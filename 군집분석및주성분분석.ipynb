{
 "cells": [
  {
   "cell_type": "code",
   "execution_count": 1,
   "id": "dd8a326f",
   "metadata": {},
   "outputs": [],
   "source": [
    "import pandas as pd\n",
    "import numpy as np"
   ]
  },
  {
   "cell_type": "code",
   "execution_count": 2,
   "id": "10e069c9",
   "metadata": {},
   "outputs": [],
   "source": [
    "from sklearn.cluster import KMeans, AgglomerativeClustering\n",
    "from sklearn.decomposition import PCA\n",
    "\n",
    "from sklearn.model_selection import train_test_split\n",
    "from sklearn.preprocessing import MinMaxScaler"
   ]
  },
  {
   "cell_type": "code",
   "execution_count": 3,
   "id": "b441031c",
   "metadata": {},
   "outputs": [],
   "source": [
    "iris=pd.read_csv('data/iris.csv')"
   ]
  },
  {
   "cell_type": "code",
   "execution_count": 4,
   "id": "9c540d26",
   "metadata": {},
   "outputs": [],
   "source": [
    "train, test=train_test_split(iris, test_size=0.3, random_state=123)"
   ]
  },
  {
   "cell_type": "code",
   "execution_count": 5,
   "id": "8c050ab2",
   "metadata": {},
   "outputs": [
    {
     "data": {
      "text/plain": [
       "Index(['SepalLength', 'SepalWidth', 'PetalLength', 'PetalWidth'], dtype='object')"
      ]
     },
     "execution_count": 5,
     "metadata": {},
     "output_type": "execute_result"
    }
   ],
   "source": [
    "var_list=iris.columns[:-1]\n",
    "var_list"
   ]
  },
  {
   "cell_type": "code",
   "execution_count": 6,
   "id": "38c0eab5",
   "metadata": {},
   "outputs": [],
   "source": [
    "train_m=train.copy()\n",
    "test_m=test.copy()"
   ]
  },
  {
   "cell_type": "code",
   "execution_count": 7,
   "id": "531cd621",
   "metadata": {},
   "outputs": [],
   "source": [
    "minmax=MinMaxScaler().fit(train[var_list])\n",
    "\n",
    "train_m[var_list]=minmax.transform(train[var_list])\n",
    "test_m[var_list]=minmax.transform(test[var_list])"
   ]
  },
  {
   "cell_type": "code",
   "execution_count": 8,
   "id": "f97a3c12",
   "metadata": {},
   "outputs": [],
   "source": [
    "km=KMeans(3).fit(train_m[var_list])"
   ]
  },
  {
   "cell_type": "code",
   "execution_count": 9,
   "id": "da6c9c4c",
   "metadata": {},
   "outputs": [
    {
     "data": {
      "text/plain": [
       "array([[0.71891327, 0.39184953, 0.78433665, 0.80603448],\n",
       "       [0.18181818, 0.55255682, 0.07997881, 0.06510417],\n",
       "       [0.45661157, 0.26239669, 0.57241911, 0.54734848]])"
      ]
     },
     "execution_count": 9,
     "metadata": {},
     "output_type": "execute_result"
    }
   ],
   "source": [
    "km.cluster_centers_"
   ]
  },
  {
   "cell_type": "code",
   "execution_count": 10,
   "id": "63f5b3c4",
   "metadata": {},
   "outputs": [
    {
     "data": {
      "text/plain": [
       "array([0, 0, 2, 1, 1, 0, 1, 1, 0, 2, 2, 2, 2, 2, 0, 1, 0, 2, 1, 1, 0, 2,\n",
       "       0, 0, 1, 2, 2, 2, 1, 0, 2, 0, 1, 0, 2, 1, 1, 2, 2, 0, 1, 1, 2, 1,\n",
       "       2, 0, 1, 0, 1, 1, 0, 1, 1, 2, 0, 2, 2, 2, 1, 1, 2, 2, 1, 1, 2, 2,\n",
       "       2, 0, 0, 2, 2, 0, 1, 1, 2, 0, 0, 0, 0, 1, 2, 1, 2, 2, 1, 2, 0, 2,\n",
       "       0, 0, 1, 2, 1, 0, 2, 2, 2, 2, 2, 2, 1, 2, 2, 2, 0])"
      ]
     },
     "execution_count": 10,
     "metadata": {},
     "output_type": "execute_result"
    }
   ],
   "source": [
    "km.labels_"
   ]
  },
  {
   "cell_type": "code",
   "execution_count": 11,
   "id": "428f582b",
   "metadata": {},
   "outputs": [],
   "source": [
    "train_m['gr'] = km.labels_"
   ]
  },
  {
   "cell_type": "code",
   "execution_count": 12,
   "id": "59fcf86f",
   "metadata": {},
   "outputs": [],
   "source": [
    "hist_clust=AgglomerativeClustering(n_clusters=2).fit(train_m[var_list])"
   ]
  },
  {
   "cell_type": "code",
   "execution_count": 13,
   "id": "4484fd78",
   "metadata": {},
   "outputs": [
    {
     "data": {
      "text/plain": [
       "array([0, 0, 0, 1, 1, 0, 1, 1, 0, 0, 0, 0, 0, 0, 0, 1, 0, 0, 1, 1, 0, 0,\n",
       "       0, 0, 1, 0, 0, 0, 1, 0, 0, 0, 1, 0, 0, 1, 1, 0, 0, 0, 1, 1, 0, 1,\n",
       "       0, 0, 1, 0, 1, 1, 0, 1, 1, 0, 0, 0, 0, 0, 1, 1, 0, 0, 1, 1, 0, 0,\n",
       "       0, 0, 0, 0, 0, 0, 1, 1, 0, 0, 0, 0, 0, 1, 0, 1, 0, 0, 1, 0, 0, 0,\n",
       "       0, 0, 1, 0, 1, 0, 0, 0, 0, 0, 0, 0, 1, 0, 0, 0, 0], dtype=int64)"
      ]
     },
     "execution_count": 13,
     "metadata": {},
     "output_type": "execute_result"
    }
   ],
   "source": [
    "hist_clust.labels_"
   ]
  },
  {
   "cell_type": "markdown",
   "id": "13f39705",
   "metadata": {},
   "source": [
    "# PCA"
   ]
  },
  {
   "cell_type": "code",
   "execution_count": 14,
   "id": "73ee3409",
   "metadata": {},
   "outputs": [
    {
     "data": {
      "text/plain": [
       "array([[ 0.35836592, -0.08537123,  0.85849429,  0.35675367],\n",
       "       [ 0.67903416,  0.70688269, -0.1733278 , -0.09584857],\n",
       "       [-0.54380181,  0.61223521,  0.05028193,  0.57176863],\n",
       "       [-0.33877141,  0.34379742,  0.48001746, -0.73254385]])"
      ]
     },
     "execution_count": 14,
     "metadata": {},
     "output_type": "execute_result"
    }
   ],
   "source": [
    "pca=PCA().fit(train[var_list])\n",
    "\n",
    "pca.components_"
   ]
  },
  {
   "cell_type": "code",
   "execution_count": 15,
   "id": "00b2aa9e",
   "metadata": {},
   "outputs": [
    {
     "data": {
      "text/plain": [
       "array([3.97184808, 0.20866195, 0.08429116, 0.02135265])"
      ]
     },
     "execution_count": 15,
     "metadata": {},
     "output_type": "execute_result"
    }
   ],
   "source": [
    "pca.explained_variance_"
   ]
  },
  {
   "cell_type": "code",
   "execution_count": 18,
   "id": "20555770",
   "metadata": {},
   "outputs": [
    {
     "data": {
      "text/plain": [
       "0    0.926670\n",
       "1    0.048683\n",
       "2    0.019666\n",
       "3    0.004982\n",
       "dtype: float64"
      ]
     },
     "execution_count": 18,
     "metadata": {},
     "output_type": "execute_result"
    }
   ],
   "source": [
    "var_ratio=pd.Series(pca.explained_variance_ratio_, index=range(len(var_list)))\n",
    "var_ratio"
   ]
  },
  {
   "cell_type": "code",
   "execution_count": 19,
   "id": "53c9b8a8",
   "metadata": {},
   "outputs": [
    {
     "data": {
      "text/plain": [
       "0    0.926670\n",
       "1    0.975352\n",
       "2    0.995018\n",
       "3    1.000000\n",
       "dtype: float64"
      ]
     },
     "execution_count": 19,
     "metadata": {},
     "output_type": "execute_result"
    }
   ],
   "source": [
    "var_ratio.cumsum()"
   ]
  },
  {
   "cell_type": "code",
   "execution_count": 20,
   "id": "1f13cc6b",
   "metadata": {},
   "outputs": [
    {
     "data": {
      "text/plain": [
       "array([[ 1.20919369e+00, -3.06687641e-01, -3.64655950e-01,\n",
       "        -2.09380253e-02],\n",
       "       [ 2.07483981e+00,  2.24764960e-01,  4.27910895e-02,\n",
       "        -1.69940856e-01],\n",
       "       [ 2.07009248e+00, -2.15142880e-01,  2.00069827e-01,\n",
       "        -1.28444416e-01],\n",
       "       [ 1.57505766e-01, -2.70738258e-01,  1.67543649e-01,\n",
       "         1.50595478e-01],\n",
       "       [-2.89061209e+00,  2.61070783e-01,  9.36624665e-02,\n",
       "         1.77019403e-01],\n",
       "       [ 1.08017497e+00, -1.68378339e-01,  2.71104594e-01,\n",
       "        -1.51727923e-02],\n",
       "       [ 7.25670058e-01, -3.42230565e-01, -6.26597684e-01,\n",
       "        -1.83197469e-01],\n",
       "       [-3.08582062e+00, -3.53451450e-01,  1.72817957e-01,\n",
       "         8.76300083e-02],\n",
       "       [-2.97435982e+00, -5.82849036e-01, -5.82441261e-03,\n",
       "         3.24925272e-02],\n",
       "       [ 3.77690586e-01, -6.63808231e-01, -6.50625379e-02,\n",
       "         2.64213273e-01],\n",
       "       [ 1.83009229e+00,  4.13518048e-01,  1.43875384e-01,\n",
       "        -5.07954010e-01],\n",
       "       [-2.69113992e+00,  1.08303603e+00,  1.91899371e-01,\n",
       "         1.06780624e-01],\n",
       "       [-9.62527220e-02, -7.29336027e-01,  2.48514287e-01,\n",
       "         1.37069380e-02],\n",
       "       [ 1.86030393e+00,  4.98092836e-02,  3.44010419e-02,\n",
       "         1.51453724e-01],\n",
       "       [ 2.98381644e+00,  7.12729312e-01, -3.02107652e-01,\n",
       "        -3.33333422e-01],\n",
       "       [ 2.26055368e+00, -4.05284855e-02,  2.78193074e-01,\n",
       "         2.44142008e-03],\n",
       "       [-2.71722948e+00,  6.05550934e-01, -2.41693469e-01,\n",
       "        -1.81879318e-01],\n",
       "       [-3.31195719e+00, -5.18480986e-01,  3.75178465e-02,\n",
       "         2.99985582e-02],\n",
       "       [ 8.95997787e-01, -1.15490982e-01, -7.82347540e-02,\n",
       "         1.61586120e-01],\n",
       "       [-2.80387521e+00, -2.50131960e-01, -1.04944752e-01,\n",
       "        -1.41890681e-01],\n",
       "       [-2.73035271e+00,  3.13819637e-01, -1.34748254e-01,\n",
       "        -6.66258908e-02],\n",
       "       [ 1.35528118e+00, -1.29288395e-01, -1.70929001e-01,\n",
       "         1.78204694e-01],\n",
       "       [-2.44445193e+00, -4.44579262e-02,  1.07913434e-01,\n",
       "         3.08891404e-01],\n",
       "       [ 1.20186099e+00, -1.17807703e-01,  2.21752606e-01,\n",
       "        -1.04818747e-03],\n",
       "       [-2.62863893e+00,  4.94003736e-01,  1.74582396e-01,\n",
       "         2.00773712e-01],\n",
       "       [-2.40113124e+00,  3.97628130e-01, -2.28424037e-01,\n",
       "         9.62506487e-03],\n",
       "       [-2.50147936e+00,  4.13123975e-01, -1.24126696e-01,\n",
       "        -2.32887198e-01],\n",
       "       [ 1.11110301e+00, -6.17871036e-01,  4.85560195e-01,\n",
       "        -4.69307370e-02],\n",
       "       [ 3.39494066e+00,  1.18382364e+00,  1.60672810e-01,\n",
       "         3.02969379e-01],\n",
       "       [-2.81910014e+00,  3.19389342e-01,  9.64591490e-02,\n",
       "         6.98878764e-02],\n",
       "       [ 2.75067944e+00,  4.05981956e-01, -4.90121605e-01,\n",
       "        -7.44394110e-03],\n",
       "       [ 1.21314471e+00, -7.39795475e-01, -3.80157777e-01,\n",
       "         2.55559174e-02],\n",
       "       [-2.72076256e+00, -2.01739541e-01,  2.47619939e-02,\n",
       "         1.30003823e-01],\n",
       "       [-2.77472642e+00,  3.16604490e-01, -1.91445527e-02,\n",
       "         1.63099278e-03],\n",
       "       [ 1.76273590e-01, -5.18543391e-01, -7.16324024e-01,\n",
       "        -8.81896157e-02],\n",
       "       [-7.91575453e-01, -1.00555983e+00, -1.46496047e-01,\n",
       "        -5.10506833e-02],\n",
       "       [ 3.13771482e+00,  1.39079853e+00, -7.75258574e-02,\n",
       "         2.37718629e-01],\n",
       "       [-2.37246612e+00,  7.31899759e-01,  1.92047295e-01,\n",
       "         3.50150057e-02],\n",
       "       [-2.71586383e+00,  8.01230878e-01,  1.71934522e-01,\n",
       "        -1.56991978e-01],\n",
       "       [ 4.74160950e-02, -3.02745815e-01, -1.92120525e-01,\n",
       "        -4.30471384e-02],\n",
       "       [-5.94265225e-01, -1.25229019e+00, -3.20110224e-01,\n",
       "        -5.81864183e-02],\n",
       "       [-2.95665050e+00,  7.13018269e-02, -1.58491321e-01,\n",
       "        -1.63634585e-01],\n",
       "       [ 2.47251401e+00,  2.77640663e-01,  2.99704630e-01,\n",
       "        -5.56831583e-02],\n",
       "       [ 1.85280566e+00,  1.89690168e-01,  1.96440418e-01,\n",
       "        -4.26577724e-01],\n",
       "       [ 1.32733681e+00, -5.77833174e-01,  2.68455836e-01,\n",
       "         2.01931157e-02]])"
      ]
     },
     "execution_count": 20,
     "metadata": {},
     "output_type": "execute_result"
    }
   ],
   "source": [
    "pca.transform(test[var_list])"
   ]
  },
  {
   "cell_type": "code",
   "execution_count": null,
   "id": "7099a67d",
   "metadata": {},
   "outputs": [],
   "source": []
  }
 ],
 "metadata": {
  "kernelspec": {
   "display_name": "Python 3 (ipykernel)",
   "language": "python",
   "name": "python3"
  },
  "language_info": {
   "codemirror_mode": {
    "name": "ipython",
    "version": 3
   },
   "file_extension": ".py",
   "mimetype": "text/x-python",
   "name": "python",
   "nbconvert_exporter": "python",
   "pygments_lexer": "ipython3",
   "version": "3.7.4"
  }
 },
 "nbformat": 4,
 "nbformat_minor": 5
}
