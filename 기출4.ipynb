{
 "cells": [
  {
   "cell_type": "markdown",
   "id": "116e1819",
   "metadata": {},
   "source": [
    "# 기출4"
   ]
  },
  {
   "cell_type": "code",
   "execution_count": 2,
   "id": "aa16c3d0",
   "metadata": {},
   "outputs": [],
   "source": [
    "import pandas as pd\n",
    "import numpy as np\n",
    "import warnings\n",
    "\n",
    "warnings.filterwarnings('ignore')"
   ]
  },
  {
   "cell_type": "code",
   "execution_count": 3,
   "id": "e6a16c42",
   "metadata": {},
   "outputs": [
    {
     "name": "stdout",
     "output_type": "stream",
     "text": [
      "<class 'pandas.core.frame.DataFrame'>\n",
      "RangeIndex: 313 entries, 0 to 312\n",
      "Data columns (total 13 columns):\n",
      "No                   313 non-null int64\n",
      "atConference         313 non-null bool\n",
      "day                  313 non-null object\n",
      "impressions          313 non-null int64\n",
      "retweets             313 non-null int64\n",
      "likes                313 non-null int64\n",
      "userprofileclicks    313 non-null int64\n",
      "urlClicks            313 non-null int64\n",
      "hashtagClicks        313 non-null int64\n",
      "detailExpands        313 non-null int64\n",
      "follows              313 non-null int64\n",
      "mediaViews           313 non-null int64\n",
      "mediaEngagements     313 non-null int64\n",
      "dtypes: bool(1), int64(11), object(1)\n",
      "memory usage: 29.8+ KB\n"
     ]
    }
   ],
   "source": [
    "dat=pd.read_csv('test/tweets2.csv')\n",
    "dat.info()"
   ]
  },
  {
   "cell_type": "markdown",
   "id": "a6de29b9",
   "metadata": {},
   "source": [
    "# 전처리"
   ]
  },
  {
   "cell_type": "code",
   "execution_count": 4,
   "id": "bce092fd",
   "metadata": {},
   "outputs": [
    {
     "data": {
      "text/plain": [
       "Index(['No', 'atConference', 'day', 'impressions', 'retweets', 'likes',\n",
       "       'userprofileclicks', 'urlClicks', 'hashtagClicks', 'detailExpands',\n",
       "       'follows', 'mediaViews', 'mediaEngagements'],\n",
       "      dtype='object')"
      ]
     },
     "execution_count": 4,
     "metadata": {},
     "output_type": "execute_result"
    }
   ],
   "source": [
    "pre1=dat.copy()\n",
    "pre1.columns"
   ]
  },
  {
   "cell_type": "code",
   "execution_count": 5,
   "id": "8f75c1c6",
   "metadata": {},
   "outputs": [],
   "source": [
    "pre1['totalSum'] = pre1.iloc[:, 4:].sum(axis=1)"
   ]
  },
  {
   "cell_type": "code",
   "execution_count": 6,
   "id": "616df9db",
   "metadata": {},
   "outputs": [],
   "source": [
    "basetable1=pre1.copy()"
   ]
  },
  {
   "cell_type": "markdown",
   "id": "303a2f48",
   "metadata": {},
   "source": [
    "# Q1"
   ]
  },
  {
   "cell_type": "code",
   "execution_count": 7,
   "id": "1228c1d0",
   "metadata": {},
   "outputs": [
    {
     "data": {
      "text/plain": [
       "True     239\n",
       "False     74\n",
       "Name: atConference, dtype: int64"
      ]
     },
     "execution_count": 7,
     "metadata": {},
     "output_type": "execute_result"
    }
   ],
   "source": [
    "basetable1.atConference.value_counts()"
   ]
  },
  {
   "cell_type": "code",
   "execution_count": 8,
   "id": "7eab3561",
   "metadata": {},
   "outputs": [],
   "source": [
    "q1=basetable1[basetable1['retweets'] > 0]\n",
    "\n",
    "q1_1=q1[q1['atConference'] == True]['likes']\n",
    "q1_0=q1[q1['atConference'] == False]['likes']"
   ]
  },
  {
   "cell_type": "code",
   "execution_count": 9,
   "id": "04504d13",
   "metadata": {},
   "outputs": [],
   "source": [
    "import scipy.stats as st"
   ]
  },
  {
   "cell_type": "code",
   "execution_count": 11,
   "id": "2830d827",
   "metadata": {},
   "outputs": [
    {
     "data": {
      "text/plain": [
       "Ttest_indResult(statistic=-4.702598503830562, pvalue=1.873518653421921e-05)"
      ]
     },
     "execution_count": 11,
     "metadata": {},
     "output_type": "execute_result"
    }
   ],
   "source": [
    "q1_out=st.ttest_ind(q1_1, q1_0)\n",
    "q1_out"
   ]
  },
  {
   "cell_type": "markdown",
   "id": "997112d8",
   "metadata": {},
   "source": [
    "# Q2"
   ]
  },
  {
   "cell_type": "code",
   "execution_count": 16,
   "id": "eb90b2e1",
   "metadata": {},
   "outputs": [],
   "source": [
    "pre2=basetable1.copy()"
   ]
  },
  {
   "cell_type": "code",
   "execution_count": 14,
   "id": "12c2c851",
   "metadata": {},
   "outputs": [
    {
     "data": {
      "text/plain": [
       "Index(['No', 'atConference', 'day', 'impressions', 'retweets', 'likes',\n",
       "       'userprofileclicks', 'urlClicks', 'hashtagClicks', 'detailExpands',\n",
       "       'follows', 'mediaViews', 'mediaEngagements', 'totalSum'],\n",
       "      dtype='object')"
      ]
     },
     "execution_count": 14,
     "metadata": {},
     "output_type": "execute_result"
    }
   ],
   "source": [
    "pre2.columns"
   ]
  },
  {
   "cell_type": "code",
   "execution_count": 18,
   "id": "28ec3c70",
   "metadata": {},
   "outputs": [
    {
     "data": {
      "text/plain": [
       "Index(['impressions', 'retweets', 'likes', 'userprofileclicks', 'urlClicks',\n",
       "       'hashtagClicks', 'detailExpands', 'follows', 'mediaViews',\n",
       "       'mediaEngagements'],\n",
       "      dtype='object')"
      ]
     },
     "execution_count": 18,
     "metadata": {},
     "output_type": "execute_result"
    }
   ],
   "source": [
    "# min_var_list=pre2.columns[3:-1]\n",
    "min_var_list=pre2.columns.drop(['No', 'atConference', 'day','totalSum' ])\n",
    "min_var_list"
   ]
  },
  {
   "cell_type": "code",
   "execution_count": 19,
   "id": "1d586afb",
   "metadata": {},
   "outputs": [],
   "source": [
    "from sklearn.preprocessing import MinMaxScaler"
   ]
  },
  {
   "cell_type": "code",
   "execution_count": 20,
   "id": "48718985",
   "metadata": {},
   "outputs": [],
   "source": [
    "minmax=MinMaxScaler().fit(pre2[min_var_list])\n",
    "pre2[min_var_list] = minmax.transform(pre2[min_var_list])"
   ]
  },
  {
   "cell_type": "code",
   "execution_count": 21,
   "id": "4aad43cd",
   "metadata": {},
   "outputs": [
    {
     "data": {
      "text/html": [
       "<div>\n",
       "<style scoped>\n",
       "    .dataframe tbody tr th:only-of-type {\n",
       "        vertical-align: middle;\n",
       "    }\n",
       "\n",
       "    .dataframe tbody tr th {\n",
       "        vertical-align: top;\n",
       "    }\n",
       "\n",
       "    .dataframe thead th {\n",
       "        text-align: right;\n",
       "    }\n",
       "</style>\n",
       "<table border=\"1\" class=\"dataframe\">\n",
       "  <thead>\n",
       "    <tr style=\"text-align: right;\">\n",
       "      <th></th>\n",
       "      <th>No</th>\n",
       "      <th>atConference</th>\n",
       "      <th>day</th>\n",
       "      <th>impressions</th>\n",
       "      <th>retweets</th>\n",
       "      <th>likes</th>\n",
       "      <th>userprofileclicks</th>\n",
       "      <th>urlClicks</th>\n",
       "      <th>hashtagClicks</th>\n",
       "      <th>detailExpands</th>\n",
       "      <th>follows</th>\n",
       "      <th>mediaViews</th>\n",
       "      <th>mediaEngagements</th>\n",
       "      <th>totalSum</th>\n",
       "    </tr>\n",
       "  </thead>\n",
       "  <tbody>\n",
       "    <tr>\n",
       "      <td>0</td>\n",
       "      <td>1</td>\n",
       "      <td>False</td>\n",
       "      <td>2017-10-26</td>\n",
       "      <td>0.001909</td>\n",
       "      <td>0.000000</td>\n",
       "      <td>0.016667</td>\n",
       "      <td>0.000000</td>\n",
       "      <td>0.0</td>\n",
       "      <td>0.0</td>\n",
       "      <td>0.051282</td>\n",
       "      <td>0.0</td>\n",
       "      <td>0.0</td>\n",
       "      <td>0.0</td>\n",
       "      <td>3</td>\n",
       "    </tr>\n",
       "    <tr>\n",
       "      <td>1</td>\n",
       "      <td>2</td>\n",
       "      <td>False</td>\n",
       "      <td>2017-10-26</td>\n",
       "      <td>0.074440</td>\n",
       "      <td>0.029412</td>\n",
       "      <td>0.116667</td>\n",
       "      <td>0.133333</td>\n",
       "      <td>0.0</td>\n",
       "      <td>0.0</td>\n",
       "      <td>0.076923</td>\n",
       "      <td>0.0</td>\n",
       "      <td>0.0</td>\n",
       "      <td>0.0</td>\n",
       "      <td>13</td>\n",
       "    </tr>\n",
       "  </tbody>\n",
       "</table>\n",
       "</div>"
      ],
      "text/plain": [
       "   No  atConference         day  impressions  retweets     likes  \\\n",
       "0   1         False  2017-10-26     0.001909  0.000000  0.016667   \n",
       "1   2         False  2017-10-26     0.074440  0.029412  0.116667   \n",
       "\n",
       "   userprofileclicks  urlClicks  hashtagClicks  detailExpands  follows  \\\n",
       "0           0.000000        0.0            0.0       0.051282      0.0   \n",
       "1           0.133333        0.0            0.0       0.076923      0.0   \n",
       "\n",
       "   mediaViews  mediaEngagements  totalSum  \n",
       "0         0.0               0.0         3  \n",
       "1         0.0               0.0        13  "
      ]
     },
     "execution_count": 21,
     "metadata": {},
     "output_type": "execute_result"
    }
   ],
   "source": [
    "pre2.head(2)"
   ]
  },
  {
   "cell_type": "code",
   "execution_count": 22,
   "id": "7ceb78fe",
   "metadata": {},
   "outputs": [
    {
     "data": {
      "text/plain": [
       "'Korean_Korea.949'"
      ]
     },
     "execution_count": 22,
     "metadata": {},
     "output_type": "execute_result"
    }
   ],
   "source": [
    "import locale\n",
    "locale.setlocale(locale.LC_ALL,'')"
   ]
  },
  {
   "cell_type": "code",
   "execution_count": 23,
   "id": "05ea9f84",
   "metadata": {},
   "outputs": [],
   "source": [
    "pre2['weekday']=pd.to_datetime(pre2['day']).dt.strftime('%a')"
   ]
  },
  {
   "cell_type": "code",
   "execution_count": 25,
   "id": "da004991",
   "metadata": {},
   "outputs": [],
   "source": [
    "train=pre2[(pre2['No'] % 4) != 0]\n",
    "test=pre2[(pre2['No'] % 4) == 0]"
   ]
  },
  {
   "cell_type": "code",
   "execution_count": 26,
   "id": "2663188d",
   "metadata": {},
   "outputs": [],
   "source": [
    "from sklearn.neighbors import KNeighborsClassifier"
   ]
  },
  {
   "cell_type": "code",
   "execution_count": 27,
   "id": "0fcf9368",
   "metadata": {},
   "outputs": [],
   "source": [
    "knn=KNeighborsClassifier().fit(train[min_var_list], train['atConference'])"
   ]
  },
  {
   "cell_type": "code",
   "execution_count": 28,
   "id": "afe981fe",
   "metadata": {},
   "outputs": [],
   "source": [
    "pred=knn.predict(test[min_var_list])"
   ]
  },
  {
   "cell_type": "code",
   "execution_count": 29,
   "id": "7178765f",
   "metadata": {},
   "outputs": [],
   "source": [
    "from sklearn.metrics import confusion_matrix"
   ]
  },
  {
   "cell_type": "code",
   "execution_count": 30,
   "id": "942bb978",
   "metadata": {},
   "outputs": [
    {
     "data": {
      "text/plain": [
       "array([[12,  7],\n",
       "       [ 2, 57]], dtype=int64)"
      ]
     },
     "execution_count": 30,
     "metadata": {},
     "output_type": "execute_result"
    }
   ],
   "source": [
    "confusion_matrix(test['atConference'], pred)  # "
   ]
  },
  {
   "cell_type": "markdown",
   "id": "1abc33d0",
   "metadata": {},
   "source": [
    "# Q3"
   ]
  },
  {
   "cell_type": "code",
   "execution_count": 31,
   "id": "a2a6beab",
   "metadata": {},
   "outputs": [],
   "source": [
    "from sklearn.linear_model import LogisticRegression"
   ]
  },
  {
   "cell_type": "code",
   "execution_count": 32,
   "id": "8d777c4b",
   "metadata": {},
   "outputs": [],
   "source": [
    "train_d=pd.get_dummies(train, columns=['weekday'], drop_first=True)\n",
    "test_d=pd.get_dummies(test, columns=['weekday'], drop_first=True)"
   ]
  },
  {
   "cell_type": "code",
   "execution_count": 33,
   "id": "70d19693",
   "metadata": {},
   "outputs": [],
   "source": [
    "q3_list=train_d.columns.drop(['No', 'atConference', 'day','totalSum' ])"
   ]
  },
  {
   "cell_type": "code",
   "execution_count": 34,
   "id": "01a40187",
   "metadata": {},
   "outputs": [
    {
     "data": {
      "text/plain": [
       "LogisticRegression(C=100000, class_weight=None, dual=False, fit_intercept=True,\n",
       "                   intercept_scaling=1, l1_ratio=None, max_iter=100,\n",
       "                   multi_class='warn', n_jobs=None, penalty='l2',\n",
       "                   random_state=123, solver='newton-cg', tol=0.0001, verbose=0,\n",
       "                   warm_start=False)"
      ]
     },
     "execution_count": 34,
     "metadata": {},
     "output_type": "execute_result"
    }
   ],
   "source": [
    "logit=LogisticRegression(fit_intercept=True, C=100000, random_state=123, penalty='l2', solver='newton-cg')\n",
    "logit.fit(train_d[q3_list], train_d['atConference'])"
   ]
  },
  {
   "cell_type": "code",
   "execution_count": 40,
   "id": "f84ea578",
   "metadata": {},
   "outputs": [
    {
     "data": {
      "text/plain": [
       "array([False,  True, False, False, False, False,  True,  True,  True,\n",
       "        True,  True,  True,  True,  True,  True,  True,  True,  True,\n",
       "        True,  True,  True,  True,  True,  True,  True,  True,  True,\n",
       "        True,  True,  True,  True,  True,  True,  True,  True,  True,\n",
       "        True,  True,  True,  True,  True,  True,  True,  True,  True,\n",
       "        True,  True,  True,  True,  True,  True,  True,  True, False,\n",
       "        True,  True,  True,  True,  True,  True,  True,  True,  True,\n",
       "        True,  True, False, False, False, False,  True,  True, False,\n",
       "       False, False, False, False, False, False])"
      ]
     },
     "execution_count": 40,
     "metadata": {},
     "output_type": "execute_result"
    }
   ],
   "source": [
    "pred=logit.predict_log_proba(test_d[q3_list])\n",
    "pred_c=logit.predict(test_d[q3_list])\n",
    "pred_c"
   ]
  },
  {
   "cell_type": "code",
   "execution_count": 41,
   "id": "86018c83",
   "metadata": {},
   "outputs": [
    {
     "data": {
      "text/plain": [
       "-2.8886339119282667"
      ]
     },
     "execution_count": 41,
     "metadata": {},
     "output_type": "execute_result"
    }
   ],
   "source": [
    "pred[test_d['atConference'] == True, 1].sum()"
   ]
  },
  {
   "cell_type": "code",
   "execution_count": 42,
   "id": "b98668b2",
   "metadata": {},
   "outputs": [
    {
     "data": {
      "text/plain": [
       "-2.3495514037432286"
      ]
     },
     "execution_count": 42,
     "metadata": {},
     "output_type": "execute_result"
    }
   ],
   "source": [
    "pred[pred_c == True, 1].sum()"
   ]
  },
  {
   "cell_type": "code",
   "execution_count": 43,
   "id": "0f9e05fd",
   "metadata": {},
   "outputs": [
    {
     "data": {
      "text/plain": [
       "array([[ 2.29929548e+01,  2.71402599e+01, -2.80032182e+01,\n",
       "        -1.06798177e+01, -3.04891531e+01,  7.05700223e+00,\n",
       "        -1.28085079e+01, -2.15030646e-02, -6.79306963e+01,\n",
       "         1.33463240e+02, -4.90105784e-01,  4.49731214e+01,\n",
       "         4.71370500e+01, -3.50430784e-01, -3.69565805e-01,\n",
       "         4.74915312e+01]])"
      ]
     },
     "execution_count": 43,
     "metadata": {},
     "output_type": "execute_result"
    }
   ],
   "source": [
    "logit.coef_  # 회귀계수"
   ]
  },
  {
   "cell_type": "code",
   "execution_count": 57,
   "id": "0f516010",
   "metadata": {},
   "outputs": [
    {
     "data": {
      "text/plain": [
       "612160231251.0381"
      ]
     },
     "execution_count": 57,
     "metadata": {},
     "output_type": "execute_result"
    }
   ],
   "source": [
    "# 'retweets'의 odds ratio를 구하시오.\n",
    "\n",
    "# pd.Series(np.exp(logit.coef_), index=q3_list)['retweets']\n",
    "pd.Series(np.exp(logit.coef_[0]), index=q3_list)['retweets']"
   ]
  },
  {
   "cell_type": "code",
   "execution_count": 44,
   "id": "408a6b60",
   "metadata": {},
   "outputs": [
    {
     "data": {
      "text/plain": [
       "array([-44.175493])"
      ]
     },
     "execution_count": 44,
     "metadata": {},
     "output_type": "execute_result"
    }
   ],
   "source": [
    "logit.intercept_  # 상수항"
   ]
  },
  {
   "cell_type": "code",
   "execution_count": 55,
   "id": "697bd505",
   "metadata": {},
   "outputs": [
    {
     "data": {
      "text/plain": [
       "27.14025990096064"
      ]
     },
     "execution_count": 55,
     "metadata": {},
     "output_type": "execute_result"
    }
   ],
   "source": [
    "logit.coef_[0][1]"
   ]
  },
  {
   "cell_type": "code",
   "execution_count": 56,
   "id": "52169162",
   "metadata": {},
   "outputs": [
    {
     "data": {
      "text/plain": [
       "27.14025990096064"
      ]
     },
     "execution_count": 56,
     "metadata": {},
     "output_type": "execute_result"
    }
   ],
   "source": [
    "logit.coef_[0,1]"
   ]
  },
  {
   "cell_type": "code",
   "execution_count": null,
   "id": "adb08d55",
   "metadata": {},
   "outputs": [],
   "source": []
  }
 ],
 "metadata": {
  "kernelspec": {
   "display_name": "Python 3 (ipykernel)",
   "language": "python",
   "name": "python3"
  },
  "language_info": {
   "codemirror_mode": {
    "name": "ipython",
    "version": 3
   },
   "file_extension": ".py",
   "mimetype": "text/x-python",
   "name": "python",
   "nbconvert_exporter": "python",
   "pygments_lexer": "ipython3",
   "version": "3.7.4"
  }
 },
 "nbformat": 4,
 "nbformat_minor": 5
}
