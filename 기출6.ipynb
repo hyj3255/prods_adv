{
 "cells": [
  {
   "cell_type": "markdown",
   "id": "26ebc02f",
   "metadata": {},
   "source": [
    "# 기출 6"
   ]
  },
  {
   "cell_type": "code",
   "execution_count": 15,
   "id": "1c55907a",
   "metadata": {},
   "outputs": [],
   "source": [
    "import pandas as pd\n",
    "import numpy as np\n",
    "import warnings\n",
    "\n",
    "warnings.filterwarnings('ignore')"
   ]
  },
  {
   "cell_type": "code",
   "execution_count": 16,
   "id": "8db5ddf1",
   "metadata": {},
   "outputs": [
    {
     "data": {
      "text/plain": [
       "63326"
      ]
     },
     "execution_count": 16,
     "metadata": {},
     "output_type": "execute_result"
    }
   ],
   "source": [
    "dat=pd.read_csv('test/travel_insurance2.csv')\n",
    "len(dat)"
   ]
  },
  {
   "cell_type": "markdown",
   "id": "6ce0c672",
   "metadata": {},
   "source": [
    "# 전처리"
   ]
  },
  {
   "cell_type": "code",
   "execution_count": 17,
   "id": "824188ae",
   "metadata": {},
   "outputs": [],
   "source": [
    "pre1=dat.drop(columns=['ProductName','NetSales'])"
   ]
  },
  {
   "cell_type": "code",
   "execution_count": 18,
   "id": "358d4cb5",
   "metadata": {},
   "outputs": [],
   "source": [
    "pre1['Gender']=np.where(pre1['Gender'].isna(), \n",
    "                        np.where((pre1['NO'] % 2) == 0, 'M', 'F'), pre1['Gender'])"
   ]
  },
  {
   "cell_type": "code",
   "execution_count": 19,
   "id": "49029c45",
   "metadata": {},
   "outputs": [
    {
     "data": {
      "text/plain": [
       "M    31891\n",
       "F    31435\n",
       "Name: Gender, dtype: int64"
      ]
     },
     "execution_count": 19,
     "metadata": {},
     "output_type": "execute_result"
    }
   ],
   "source": [
    "pre1.Gender.value_counts()"
   ]
  },
  {
   "cell_type": "code",
   "execution_count": 20,
   "id": "3f797c1d",
   "metadata": {},
   "outputs": [],
   "source": [
    "basetable1=pre1.copy()"
   ]
  },
  {
   "cell_type": "markdown",
   "id": "ca18b391",
   "metadata": {},
   "source": [
    "# Q1"
   ]
  },
  {
   "cell_type": "code",
   "execution_count": 21,
   "id": "819685ba",
   "metadata": {},
   "outputs": [],
   "source": [
    "# help(basetable1['Age'].between"
   ]
  },
  {
   "cell_type": "code",
   "execution_count": 22,
   "id": "55e49c12",
   "metadata": {},
   "outputs": [
    {
     "data": {
      "text/plain": [
       "0        False\n",
       "1        False\n",
       "2        False\n",
       "3        False\n",
       "4         True\n",
       "         ...  \n",
       "63321    False\n",
       "63322     True\n",
       "63323    False\n",
       "63324    False\n",
       "63325    False\n",
       "Name: Age, Length: 63326, dtype: bool"
      ]
     },
     "execution_count": 22,
     "metadata": {},
     "output_type": "execute_result"
    }
   ],
   "source": [
    "basetable1['Age'].between(40, 49)  # inclusive=False"
   ]
  },
  {
   "cell_type": "code",
   "execution_count": 23,
   "id": "156e92b5",
   "metadata": {},
   "outputs": [
    {
     "data": {
      "text/plain": [
       "SINGAPORE         1352\n",
       "MALAYSIA           439\n",
       "THAILAND           434\n",
       "INDONESIA          362\n",
       "AUSTRALIA          323\n",
       "                  ... \n",
       "ECUADOR              1\n",
       "MAURITIUS            1\n",
       "CAYMAN ISLANDS       1\n",
       "GUATEMALA            1\n",
       "CHILE                1\n",
       "Name: Destination, Length: 72, dtype: int64"
      ]
     },
     "execution_count": 23,
     "metadata": {},
     "output_type": "execute_result"
    }
   ],
   "source": [
    "q1=basetable1[basetable1['Age'].between(40, 49) & (basetable1['Gender'] == 'F')]\n",
    "q1['Destination'].value_counts(ascending=False)"
   ]
  },
  {
   "cell_type": "markdown",
   "id": "01ef447f",
   "metadata": {},
   "source": [
    "# Q2"
   ]
  },
  {
   "cell_type": "code",
   "execution_count": 24,
   "id": "23c6fada",
   "metadata": {},
   "outputs": [
    {
     "data": {
      "text/plain": [
       "Online     62219\n",
       "Offline     1107\n",
       "Name: DistributionChannel, dtype: int64"
      ]
     },
     "execution_count": 24,
     "metadata": {},
     "output_type": "execute_result"
    }
   ],
   "source": [
    "basetable1['DistributionChannel'].value_counts()"
   ]
  },
  {
   "cell_type": "code",
   "execution_count": 25,
   "id": "23630662",
   "metadata": {},
   "outputs": [],
   "source": [
    "q2_1=basetable1[basetable1['DistributionChannel'] == 'Online']['Duration']\n",
    "q2_2=basetable1[basetable1['DistributionChannel'] == 'Offline']['Duration']"
   ]
  },
  {
   "cell_type": "code",
   "execution_count": 26,
   "id": "58d5a269",
   "metadata": {},
   "outputs": [],
   "source": [
    "import scipy.stats as st"
   ]
  },
  {
   "cell_type": "code",
   "execution_count": 27,
   "id": "b5f43b5e",
   "metadata": {},
   "outputs": [
    {
     "data": {
      "text/plain": [
       "Ttest_indResult(statistic=-10.289600869594274, pvalue=8.211742470098141e-25)"
      ]
     },
     "execution_count": 27,
     "metadata": {},
     "output_type": "execute_result"
    }
   ],
   "source": [
    "st.ttest_ind(q2_1, q2_2)"
   ]
  },
  {
   "cell_type": "markdown",
   "id": "b09c67ff",
   "metadata": {},
   "source": [
    "# Q3"
   ]
  },
  {
   "cell_type": "code",
   "execution_count": 28,
   "id": "d0d9335b",
   "metadata": {},
   "outputs": [],
   "source": [
    "q3=basetable1.copy()"
   ]
  },
  {
   "cell_type": "code",
   "execution_count": 29,
   "id": "cdddbe5b",
   "metadata": {},
   "outputs": [],
   "source": [
    "q3=pd.get_dummies(q3, columns=['Gender','DistributionChannel'], drop_first=True)"
   ]
  },
  {
   "cell_type": "code",
   "execution_count": 30,
   "id": "76c4a22b",
   "metadata": {},
   "outputs": [],
   "source": [
    "train=q3[(q3['NO'] % 3) != 0]\n",
    "test=q3[(q3['NO'] % 3) == 0]"
   ]
  },
  {
   "cell_type": "code",
   "execution_count": 31,
   "id": "679d8dc7",
   "metadata": {},
   "outputs": [],
   "source": [
    "from sklearn.linear_model import LogisticRegression"
   ]
  },
  {
   "cell_type": "code",
   "execution_count": 32,
   "id": "40e1444a",
   "metadata": {},
   "outputs": [
    {
     "data": {
      "text/plain": [
       "Index(['NO', 'Agency', 'AgencyType', 'Claim', 'Duration', 'Destination',\n",
       "       'Commision', 'Age', 'Gender_M', 'DistributionChannel_Online'],\n",
       "      dtype='object')"
      ]
     },
     "execution_count": 32,
     "metadata": {},
     "output_type": "execute_result"
    }
   ],
   "source": [
    "train.columns"
   ]
  },
  {
   "cell_type": "code",
   "execution_count": 33,
   "id": "03731d65",
   "metadata": {},
   "outputs": [],
   "source": [
    "var_list=['Duration', 'Commision', 'Age', 'Gender_M', 'DistributionChannel_Online' ]"
   ]
  },
  {
   "cell_type": "code",
   "execution_count": 34,
   "id": "85973163",
   "metadata": {},
   "outputs": [
    {
     "data": {
      "text/plain": [
       "LogisticRegression(C=100000, class_weight=None, dual=False, fit_intercept=True,\n",
       "                   intercept_scaling=1, l1_ratio=None, max_iter=100,\n",
       "                   multi_class='warn', n_jobs=None, penalty='l2',\n",
       "                   random_state=1234, solver='newton-cg', tol=0.0001, verbose=0,\n",
       "                   warm_start=False)"
      ]
     },
     "execution_count": 34,
     "metadata": {},
     "output_type": "execute_result"
    }
   ],
   "source": [
    "logit=LogisticRegression(C=100000, random_state=1234, solver='newton-cg')\n",
    "logit.fit(train[var_list], train['Claim'])"
   ]
  },
  {
   "cell_type": "code",
   "execution_count": 35,
   "id": "d23a8406",
   "metadata": {},
   "outputs": [],
   "source": [
    "pred=logit.predict_proba(test[var_list])"
   ]
  },
  {
   "cell_type": "code",
   "execution_count": 37,
   "id": "61c59251",
   "metadata": {},
   "outputs": [
    {
     "data": {
      "text/html": [
       "<div>\n",
       "<style scoped>\n",
       "    .dataframe tbody tr th:only-of-type {\n",
       "        vertical-align: middle;\n",
       "    }\n",
       "\n",
       "    .dataframe tbody tr th {\n",
       "        vertical-align: top;\n",
       "    }\n",
       "\n",
       "    .dataframe thead th {\n",
       "        text-align: right;\n",
       "    }\n",
       "</style>\n",
       "<table border=\"1\" class=\"dataframe\">\n",
       "  <thead>\n",
       "    <tr style=\"text-align: right;\">\n",
       "      <th></th>\n",
       "      <th>No</th>\n",
       "      <th>Yes</th>\n",
       "    </tr>\n",
       "  </thead>\n",
       "  <tbody>\n",
       "    <tr>\n",
       "      <td>0</td>\n",
       "      <td>0.978281</td>\n",
       "      <td>0.021719</td>\n",
       "    </tr>\n",
       "    <tr>\n",
       "      <td>1</td>\n",
       "      <td>0.976549</td>\n",
       "      <td>0.023451</td>\n",
       "    </tr>\n",
       "  </tbody>\n",
       "</table>\n",
       "</div>"
      ],
      "text/plain": [
       "         No       Yes\n",
       "0  0.978281  0.021719\n",
       "1  0.976549  0.023451"
      ]
     },
     "execution_count": 37,
     "metadata": {},
     "output_type": "execute_result"
    }
   ],
   "source": [
    "pred=pd.DataFrame(pred, columns=['No', 'Yes'])\n",
    "pred.head(2)"
   ]
  },
  {
   "cell_type": "code",
   "execution_count": 38,
   "id": "f3a5153c",
   "metadata": {},
   "outputs": [],
   "source": [
    "pred['Lift'] = pred['Yes']/0.015"
   ]
  },
  {
   "cell_type": "code",
   "execution_count": 40,
   "id": "0f46a41c",
   "metadata": {},
   "outputs": [
    {
     "data": {
      "text/plain": [
       "1344.1053333434793"
      ]
     },
     "execution_count": 40,
     "metadata": {},
     "output_type": "execute_result"
    }
   ],
   "source": [
    "pred.sort_values(by='Yes', ascending=False).iloc[:100, -1].sum()"
   ]
  },
  {
   "cell_type": "code",
   "execution_count": null,
   "id": "97130ed6",
   "metadata": {},
   "outputs": [],
   "source": []
  }
 ],
 "metadata": {
  "kernelspec": {
   "display_name": "Python 3 (ipykernel)",
   "language": "python",
   "name": "python3"
  },
  "language_info": {
   "codemirror_mode": {
    "name": "ipython",
    "version": 3
   },
   "file_extension": ".py",
   "mimetype": "text/x-python",
   "name": "python",
   "nbconvert_exporter": "python",
   "pygments_lexer": "ipython3",
   "version": "3.7.4"
  }
 },
 "nbformat": 4,
 "nbformat_minor": 5
}
