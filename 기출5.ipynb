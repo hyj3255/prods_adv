{
 "cells": [
  {
   "cell_type": "markdown",
   "id": "comprehensive-coordinate",
   "metadata": {},
   "source": [
    "# 기출5\n",
    "\n"
   ]
  },
  {
   "cell_type": "markdown",
   "id": "color-margin",
   "metadata": {},
   "source": [
    "- 휴대폰 음질 측정 데이터로 음질의 특징을 분석하고자 한다. MOS(Mean Opinion Score) 변수는 두 지점간의 통신망과 테스트 장비를 이용하여 측정한 음질 측정 지표이며, 다음은 데이터셋에 대한 정보이다.\n",
    "\n",
    "    phone.csv (구분자:  “,” , 105,828 Rows, 9 Columns)"
   ]
  },
  {
   "cell_type": "code",
   "execution_count": 1,
   "id": "standard-cameroon",
   "metadata": {},
   "outputs": [],
   "source": [
    "import pandas as pd\n",
    "import numpy as np\n",
    "import warnings\n",
    "\n",
    "warnings.filterwarnings('ignore')"
   ]
  },
  {
   "cell_type": "code",
   "execution_count": 2,
   "id": "objective-suspect",
   "metadata": {},
   "outputs": [],
   "source": [
    "import datetime\n",
    "import locale\n",
    "\n",
    "import scipy.stats as sc\n",
    "\n",
    "from statsmodels.formula.api import ols\n",
    "from statsmodels.stats.anova import anova_lm\n",
    "from sklearn.model_selection import train_test_split\n",
    "from sklearn.neighbors import KNeighborsClassifier\n",
    "from sklearn.linear_model import LinearRegression, LogisticRegression\n",
    "from sklearn.metrics import roc_auc_score, accuracy_score\n",
    "from sklearn.tree import DecisionTreeClassifier"
   ]
  },
  {
   "cell_type": "code",
   "execution_count": 3,
   "id": "specialized-amendment",
   "metadata": {},
   "outputs": [
    {
     "data": {
      "text/plain": [
       "'0.21.3'"
      ]
     },
     "execution_count": 3,
     "metadata": {},
     "output_type": "execute_result"
    }
   ],
   "source": [
    "import sklearn\n",
    "sklearn.__version__"
   ]
  },
  {
   "cell_type": "code",
   "execution_count": 4,
   "id": "alpine-election",
   "metadata": {},
   "outputs": [
    {
     "name": "stdout",
     "output_type": "stream",
     "text": [
      "<class 'pandas.core.frame.DataFrame'>\n",
      "RangeIndex: 105828 entries, 0 to 105827\n",
      "Data columns (total 10 columns):\n",
      "Date              105828 non-null object\n",
      "Signal            105821 non-null float64\n",
      "Speed             105828 non-null float64\n",
      "Distance          95469 non-null float64\n",
      "Manufacturer      10 non-null object\n",
      "TestResult        105828 non-null object\n",
      "TestTechnology    105828 non-null object\n",
      "SetupTime         105828 non-null float64\n",
      "MOS               105828 non-null int64\n",
      "Acceptability     5050 non-null float64\n",
      "dtypes: float64(5), int64(1), object(4)\n",
      "memory usage: 8.1+ MB\n"
     ]
    }
   ],
   "source": [
    "dat=pd.read_csv('test/phone.csv', na_values = [\"null\",\"NA\",\"\",\"n/a\"])\n",
    "\n",
    "dat.info()"
   ]
  },
  {
   "cell_type": "code",
   "execution_count": 5,
   "id": "color-plate",
   "metadata": {},
   "outputs": [],
   "source": [
    "dat.Result=dat.TestResult.astype('category')\n",
    "dat.Technology=dat.TestTechnology.astype('category')\n",
    "# dat.Xgrp=dat.Xgrp.astype('category')"
   ]
  },
  {
   "cell_type": "markdown",
   "id": "subsequent-muscle",
   "metadata": {},
   "source": [
    "* 다음의 전처리를 먼저 수행한 후 분석 진행하시오.\n",
    "\n",
    "    단계 1-1. 데이터 중 테스트 결과(TestResult)가 SUCCESS이고 신호 강도(Signal) 값이 결측치(null, N/A 등)가 아닌 데이터만 추출\n",
    "\n",
    "\n",
    "\n"
   ]
  },
  {
   "cell_type": "code",
   "execution_count": 6,
   "id": "amended-special",
   "metadata": {},
   "outputs": [
    {
     "data": {
      "text/plain": [
       "(105147, 10)"
      ]
     },
     "execution_count": 6,
     "metadata": {},
     "output_type": "execute_result"
    }
   ],
   "source": [
    "dat1=dat[(dat.TestResult==\"SUCCESS\")&(dat.Signal.notna())].copy()\n",
    "dat1.shape\n",
    "# [1] 105147      10\n"
   ]
  },
  {
   "cell_type": "markdown",
   "id": "descending-narrow",
   "metadata": {},
   "source": [
    "    단계 1-2. 결측치 보정 \n",
    "\n",
    "    두 지점 간의 거리(Distance) 변수의 결측치는 통신망 유형별(TestTechnology)로 두 지점 간의 거리(Distance) 값이 결측치가 없는 데이터로 다음과 같은 선형식을 만들고 이를 이용하여 결측치를 보정(OLS(Ordinary Least Squares) 적용)\n",
    "\n",
    "        Distan⁡ce=b_1×Signal\n",
    "\n"
   ]
  },
  {
   "cell_type": "code",
   "execution_count": 7,
   "id": "numerous-briefs",
   "metadata": {},
   "outputs": [],
   "source": [
    "list2=['Distance', 'Signal']\n",
    "b1_dat=dat1[dat1.Distance.notna()].copy()\n",
    "\n",
    "for i in b1_dat.TestTechnology.unique() :\n",
    "  b1_dat2=b1_dat[b1_dat.TestTechnology==i][list2]\n",
    "  globals()['lm_'+str(i)]=LinearRegression(fit_intercept=False).fit(b1_dat2[['Signal']], b1_dat2[['Distance']])"
   ]
  },
  {
   "cell_type": "code",
   "execution_count": 8,
   "id": "likely-remark",
   "metadata": {},
   "outputs": [
    {
     "data": {
      "text/plain": [
       "10185"
      ]
     },
     "execution_count": 8,
     "metadata": {},
     "output_type": "execute_result"
    }
   ],
   "source": [
    "dat2=dat1.copy()\n",
    "dat2.Distance.isna().sum()"
   ]
  },
  {
   "cell_type": "code",
   "execution_count": 9,
   "id": "polar-imperial",
   "metadata": {},
   "outputs": [],
   "source": [
    "for i in b1_dat.TestTechnology.unique() :\n",
    "    dat2.loc[(dat2.TestTechnology==i) & (dat2.Distance.isna()), ['Distance']]=\\\n",
    "    eval('lm_'+str(i)).predict(dat2.loc[(dat2.TestTechnology==i) & (dat2.Distance.isna()), ['Signal']])"
   ]
  },
  {
   "cell_type": "code",
   "execution_count": 10,
   "id": "champion-artist",
   "metadata": {},
   "outputs": [
    {
     "data": {
      "text/plain": [
       "0"
      ]
     },
     "execution_count": 10,
     "metadata": {},
     "output_type": "execute_result"
    }
   ],
   "source": [
    "dat2.Distance.isna().sum()"
   ]
  },
  {
   "cell_type": "code",
   "execution_count": 11,
   "id": "periodic-support",
   "metadata": {},
   "outputs": [
    {
     "data": {
      "text/plain": [
       "105147"
      ]
     },
     "execution_count": 11,
     "metadata": {},
     "output_type": "execute_result"
    }
   ],
   "source": [
    "len(dat2)"
   ]
  },
  {
   "cell_type": "markdown",
   "id": "prescription-aquarium",
   "metadata": {},
   "source": [
    "통화 연결 시간(SetupTime)이 0인 데이터는 통신망 유형별(TestTechnology)로 ‘통화 연결 시간이 0이 아닌 데이터들의 평균 값’으로 보정\n",
    "\n"
   ]
  },
  {
   "cell_type": "code",
   "execution_count": 12,
   "id": "lesbian-globe",
   "metadata": {},
   "outputs": [],
   "source": [
    "dat3=dat2.copy()\n",
    "dat2.SetupTime=np.where(dat2.SetupTime == 0, np.nan, dat2.SetupTime)\n",
    "dat3.SetupTime=np.where(dat3.SetupTime == 0, np.nan, dat3.SetupTime)\n",
    "\n",
    "dat3['SetupTime']=dat3.groupby('TestTechnology')['SetupTime'].apply(lambda x: x.fillna(x.mean()))"
   ]
  },
  {
   "cell_type": "code",
   "execution_count": 13,
   "id": "continuous-refund",
   "metadata": {},
   "outputs": [
    {
     "data": {
      "text/html": [
       "<div>\n",
       "<style scoped>\n",
       "    .dataframe tbody tr th:only-of-type {\n",
       "        vertical-align: middle;\n",
       "    }\n",
       "\n",
       "    .dataframe tbody tr th {\n",
       "        vertical-align: top;\n",
       "    }\n",
       "\n",
       "    .dataframe thead th {\n",
       "        text-align: right;\n",
       "    }\n",
       "</style>\n",
       "<table border=\"1\" class=\"dataframe\">\n",
       "  <thead>\n",
       "    <tr style=\"text-align: right;\">\n",
       "      <th></th>\n",
       "      <th>Date</th>\n",
       "      <th>Signal</th>\n",
       "      <th>Speed</th>\n",
       "      <th>Distance</th>\n",
       "      <th>Manufacturer</th>\n",
       "      <th>TestResult</th>\n",
       "      <th>TestTechnology</th>\n",
       "      <th>SetupTime</th>\n",
       "      <th>MOS</th>\n",
       "      <th>Acceptability</th>\n",
       "    </tr>\n",
       "  </thead>\n",
       "  <tbody>\n",
       "    <tr>\n",
       "      <td>3</td>\n",
       "      <td>2017-07-01 0:08</td>\n",
       "      <td>-65.0</td>\n",
       "      <td>69.279999</td>\n",
       "      <td>1770.92</td>\n",
       "      <td>LGE</td>\n",
       "      <td>SUCCESS</td>\n",
       "      <td>UMTS</td>\n",
       "      <td>4.063578</td>\n",
       "      <td>1</td>\n",
       "      <td>0.0</td>\n",
       "    </tr>\n",
       "    <tr>\n",
       "      <td>5</td>\n",
       "      <td>2017-07-01 0:10</td>\n",
       "      <td>-61.0</td>\n",
       "      <td>68.860001</td>\n",
       "      <td>452.50</td>\n",
       "      <td>LGE</td>\n",
       "      <td>SUCCESS</td>\n",
       "      <td>UMTS</td>\n",
       "      <td>4.063578</td>\n",
       "      <td>1</td>\n",
       "      <td>0.0</td>\n",
       "    </tr>\n",
       "    <tr>\n",
       "      <td>7</td>\n",
       "      <td>2017-07-01 0:17</td>\n",
       "      <td>-73.0</td>\n",
       "      <td>70.019997</td>\n",
       "      <td>296.19</td>\n",
       "      <td>LGE</td>\n",
       "      <td>SUCCESS</td>\n",
       "      <td>UMTS</td>\n",
       "      <td>4.063578</td>\n",
       "      <td>1</td>\n",
       "      <td>0.0</td>\n",
       "    </tr>\n",
       "    <tr>\n",
       "      <td>14</td>\n",
       "      <td>2017-07-01 0:30</td>\n",
       "      <td>-83.0</td>\n",
       "      <td>31.030001</td>\n",
       "      <td>1385.85</td>\n",
       "      <td>NaN</td>\n",
       "      <td>SUCCESS</td>\n",
       "      <td>UMTS</td>\n",
       "      <td>4.063578</td>\n",
       "      <td>4</td>\n",
       "      <td>1.0</td>\n",
       "    </tr>\n",
       "    <tr>\n",
       "      <td>16</td>\n",
       "      <td>2017-07-01 0:32</td>\n",
       "      <td>-87.0</td>\n",
       "      <td>31.030001</td>\n",
       "      <td>17496.52</td>\n",
       "      <td>NaN</td>\n",
       "      <td>SUCCESS</td>\n",
       "      <td>UMTS</td>\n",
       "      <td>4.063578</td>\n",
       "      <td>1</td>\n",
       "      <td>0.0</td>\n",
       "    </tr>\n",
       "  </tbody>\n",
       "</table>\n",
       "</div>"
      ],
      "text/plain": [
       "               Date  Signal      Speed  Distance Manufacturer TestResult  \\\n",
       "3   2017-07-01 0:08   -65.0  69.279999   1770.92          LGE    SUCCESS   \n",
       "5   2017-07-01 0:10   -61.0  68.860001    452.50          LGE    SUCCESS   \n",
       "7   2017-07-01 0:17   -73.0  70.019997    296.19          LGE    SUCCESS   \n",
       "14  2017-07-01 0:30   -83.0  31.030001   1385.85          NaN    SUCCESS   \n",
       "16  2017-07-01 0:32   -87.0  31.030001  17496.52          NaN    SUCCESS   \n",
       "\n",
       "   TestTechnology  SetupTime  MOS  Acceptability  \n",
       "3            UMTS   4.063578    1            0.0  \n",
       "5            UMTS   4.063578    1            0.0  \n",
       "7            UMTS   4.063578    1            0.0  \n",
       "14           UMTS   4.063578    4            1.0  \n",
       "16           UMTS   4.063578    1            0.0  "
      ]
     },
     "execution_count": 13,
     "metadata": {},
     "output_type": "execute_result"
    }
   ],
   "source": [
    "dat3[dat2['SetupTime'].isna()].head()"
   ]
  },
  {
   "cell_type": "markdown",
   "id": "fallen-tiffany",
   "metadata": {},
   "source": [
    "전송 속도(Speed)가 0 이하인 데이터는 1) 단계와 동일하게 통신망 유형별(TestTechnology)로 전송 속도(Speed) 값이 0 초과(>)인 데이터를 사용하여 선형식을 만들고 이를 이용하여 추정해 보정\n",
    "\n",
    "Speed=b_2×Signal"
   ]
  },
  {
   "cell_type": "code",
   "execution_count": 14,
   "id": "impressive-privilege",
   "metadata": {},
   "outputs": [],
   "source": [
    "list3=['Speed', 'Signal']\n",
    "b2_dat=dat3[dat3.Speed > 0].copy()\n",
    "\n",
    "for i in b2_dat.TestTechnology.unique() :\n",
    "  b2_dat2=b2_dat[b2_dat.TestTechnology==i][list3]\n",
    "  globals()['lm_speed_'+str(i)]=LinearRegression(fit_intercept=False).fit(b2_dat2[['Signal']], b2_dat2[['Speed']])"
   ]
  },
  {
   "cell_type": "code",
   "execution_count": 15,
   "id": "mineral-convert",
   "metadata": {},
   "outputs": [
    {
     "data": {
      "text/plain": [
       "58505"
      ]
     },
     "execution_count": 15,
     "metadata": {},
     "output_type": "execute_result"
    }
   ],
   "source": [
    "dat4=dat3.copy()\n",
    "(dat4.Speed <=0).sum()"
   ]
  },
  {
   "cell_type": "code",
   "execution_count": 16,
   "id": "current-optimum",
   "metadata": {},
   "outputs": [],
   "source": [
    "for i in b2_dat.TestTechnology.unique() :\n",
    "    dat4.loc[(dat4.TestTechnology==i) & (dat4.Speed <= 0), ['Speed']]=\\\n",
    "    eval('lm_speed_'+str(i)).predict(dat4.loc[(dat4.TestTechnology==i) & (dat4.Speed <= 0), ['Signal']])"
   ]
  },
  {
   "cell_type": "code",
   "execution_count": 17,
   "id": "supposed-olympus",
   "metadata": {},
   "outputs": [
    {
     "data": {
      "text/plain": [
       "0"
      ]
     },
     "execution_count": 17,
     "metadata": {},
     "output_type": "execute_result"
    }
   ],
   "source": [
    "(dat4.Speed <=0).sum()"
   ]
  },
  {
   "cell_type": "code",
   "execution_count": 18,
   "id": "increased-debut",
   "metadata": {},
   "outputs": [
    {
     "data": {
      "text/plain": [
       "13    14.590247\n",
       "15    14.590247\n",
       "17    14.590247\n",
       "19    14.590247\n",
       "20    14.590247\n",
       "Name: Speed, dtype: float64"
      ]
     },
     "execution_count": 18,
     "metadata": {},
     "output_type": "execute_result"
    }
   ],
   "source": [
    "dat4.Speed[dat3.Speed <= 0].head()"
   ]
  },
  {
   "cell_type": "code",
   "execution_count": 19,
   "id": "equipped-solution",
   "metadata": {},
   "outputs": [],
   "source": [
    "basetable1=dat4.copy()"
   ]
  },
  {
   "cell_type": "code",
   "execution_count": 20,
   "id": "living-disco",
   "metadata": {},
   "outputs": [
    {
     "data": {
      "text/plain": [
       "105147"
      ]
     },
     "execution_count": 20,
     "metadata": {},
     "output_type": "execute_result"
    }
   ],
   "source": [
    "len(basetable1)"
   ]
  },
  {
   "cell_type": "markdown",
   "id": "inside-chart",
   "metadata": {},
   "source": [
    "* 상기 전처리를 완료한 데이터 프레임(데이터 프레임명: basetable1)으로 다음 분석(문제 1~3) 진행하시오.\n",
    "\n",
    "1. (basetable1 이용) 통신망 유형(TestTechnology)별로 이상치(Outlier)를 제거한 후 통신망 유형(TestTechnology)별로 통화 연결 시간(SetupTime)에 차이가 있는지 검정하고 검정 통계량(F Statistic)을 기술하시오.(이때 이상치는 Tukey 방식 적용하며, 검정 통계량은 정수부분만 기술)\n",
    "\n",
    "    - [Tukey 방식] \n",
    "        Q1: 제 1사분위수, Q3: 제 3사분위수, IQR: Q3 – Q1 일 때, \n",
    "        (Y < Q1 - 1.5*IQR) or (Y > Q3 + 1.5*IQR) 이면 Y 이상치\n",
    "        정답\t891661.2777499713"
   ]
  },
  {
   "cell_type": "code",
   "execution_count": 21,
   "id": "numerous-league",
   "metadata": {},
   "outputs": [],
   "source": [
    "def outlier_test(x):\n",
    "    Q1=x.quantile(1/4)\n",
    "    Q3=x.quantile(3/4)\n",
    "    IQR=Q3-Q1\n",
    "    LL=Q1-(1.5*IQR)\n",
    "    UU=Q3+(1.5*IQR)\n",
    "    outlier_out= (x < LL) | (x > UU)\n",
    "    return outlier_out"
   ]
  },
  {
   "cell_type": "code",
   "execution_count": 22,
   "id": "liquid-british",
   "metadata": {},
   "outputs": [],
   "source": [
    "outlier_result=basetable1.groupby('TestTechnology')['SetupTime'].apply(outlier_test)"
   ]
  },
  {
   "cell_type": "code",
   "execution_count": 23,
   "id": "settled-camping",
   "metadata": {},
   "outputs": [],
   "source": [
    "Q1 = basetable1[~outlier_result]"
   ]
  },
  {
   "cell_type": "code",
   "execution_count": 24,
   "id": "golden-quebec",
   "metadata": {},
   "outputs": [
    {
     "name": "stdout",
     "output_type": "stream",
     "text": [
      "                     df         sum_sq        mean_sq              F  PR(>F)\n",
      "TestTechnology      2.0  229000.414216  114500.207108  891661.277751     0.0\n",
      "Residual        97045.0   12461.764210       0.128412            NaN     NaN\n"
     ]
    }
   ],
   "source": [
    "Q1_out=ols('SetupTime~TestTechnology', data=Q1).fit()\n",
    "Q1_out2=anova_lm(Q1_out)\n",
    "print(Q1_out2)"
   ]
  },
  {
   "cell_type": "code",
   "execution_count": 25,
   "id": "worth-collection",
   "metadata": {},
   "outputs": [
    {
     "name": "stdout",
     "output_type": "stream",
     "text": [
      "Q1 정답:  891661.2777507299\n"
     ]
    }
   ],
   "source": [
    "Q1_ans=Q1_out2['F'][0]\n",
    "\n",
    "print('Q1 정답: ', Q1_ans)  #  891661.2777504099"
   ]
  },
  {
   "cell_type": "markdown",
   "id": "elect-unknown",
   "metadata": {},
   "source": [
    "단계 1-3. (basetable1 이용) 테스트 시점의 날짜(Date)의 요일 변수(Day) 생성 후 요일 변수(Day)와 통신망 유형(TestTechnology) 변수의 가변수(Dummy)를 생성하시오.\n"
   ]
  },
  {
   "cell_type": "code",
   "execution_count": 26,
   "id": "gothic-header",
   "metadata": {},
   "outputs": [
    {
     "data": {
      "text/plain": [
       "dtype('O')"
      ]
     },
     "execution_count": 26,
     "metadata": {},
     "output_type": "execute_result"
    }
   ],
   "source": [
    "basetable1.Date.dtype"
   ]
  },
  {
   "cell_type": "code",
   "execution_count": 27,
   "id": "appropriate-graphics",
   "metadata": {},
   "outputs": [
    {
     "data": {
      "text/plain": [
       "0    2017-07-01 0:00\n",
       "1    2017-07-01 0:02\n",
       "2    2017-07-01 0:05\n",
       "3    2017-07-01 0:08\n",
       "4    2017-07-01 0:10\n",
       "Name: Date, dtype: object"
      ]
     },
     "execution_count": 27,
     "metadata": {},
     "output_type": "execute_result"
    }
   ],
   "source": [
    "basetable1.Date.head()"
   ]
  },
  {
   "cell_type": "code",
   "execution_count": 28,
   "id": "focal-buying",
   "metadata": {},
   "outputs": [],
   "source": [
    "Q2=basetable1.copy()"
   ]
  },
  {
   "cell_type": "code",
   "execution_count": 29,
   "id": "august-laptop",
   "metadata": {},
   "outputs": [],
   "source": [
    "Q2.Date=pd.to_datetime(Q2.Date)"
   ]
  },
  {
   "cell_type": "code",
   "execution_count": 30,
   "id": "588aebd7",
   "metadata": {},
   "outputs": [
    {
     "data": {
      "text/plain": [
       "'Korean_Korea.949'"
      ]
     },
     "execution_count": 30,
     "metadata": {},
     "output_type": "execute_result"
    }
   ],
   "source": [
    "import locale\n",
    "locale.setlocale(locale.LC_ALL,'')"
   ]
  },
  {
   "cell_type": "code",
   "execution_count": 31,
   "id": "comprehensive-round",
   "metadata": {},
   "outputs": [
    {
     "data": {
      "text/plain": [
       "0    토요일\n",
       "1    토요일\n",
       "2    토요일\n",
       "3    토요일\n",
       "4    토요일\n",
       "Name: Day, dtype: object"
      ]
     },
     "execution_count": 31,
     "metadata": {},
     "output_type": "execute_result"
    }
   ],
   "source": [
    "# Q2['Day']=Q2.Date.dt.day_name('ko_kr')\n",
    "Q2['Day']=Q2.Date.dt.day_name('Korean_Korea.949')\n",
    "Q2['Day'].head()"
   ]
  },
  {
   "cell_type": "code",
   "execution_count": 32,
   "id": "objective-bowling",
   "metadata": {},
   "outputs": [],
   "source": [
    "# pd.get_dummies?"
   ]
  },
  {
   "cell_type": "code",
   "execution_count": 33,
   "id": "passing-myanmar",
   "metadata": {},
   "outputs": [],
   "source": [
    "Q2_2=pd.get_dummies(Q2, columns=['TestTechnology', 'Day'], drop_first=True)\n",
    "Q2_2.head(3)\n",
    "Q2_2['TestTechnology']=Q2.TestTechnology"
   ]
  },
  {
   "cell_type": "markdown",
   "id": "enhanced-croatia",
   "metadata": {},
   "source": [
    "단계 1-4. (단계1-3. 이용) Split Data 함수를 사용하여 Train과 Test 데이터를 분할하시오.  \n",
    "\n",
    "    - Train:Test = 7:3 비율, 음질의 만족 여부(Acceptability)에 따라 층화추출,  seed : 123\n"
   ]
  },
  {
   "cell_type": "code",
   "execution_count": 34,
   "id": "hydraulic-communication",
   "metadata": {
    "scrolled": true
   },
   "outputs": [
    {
     "data": {
      "text/plain": [
       "0    0.0\n",
       "1    1.0\n",
       "2    0.0\n",
       "3    0.0\n",
       "4    1.0\n",
       "Name: Acceptability, dtype: float64"
      ]
     },
     "execution_count": 34,
     "metadata": {},
     "output_type": "execute_result"
    }
   ],
   "source": [
    "Q2_2.Acceptability.head()"
   ]
  },
  {
   "cell_type": "code",
   "execution_count": 35,
   "id": "increasing-still",
   "metadata": {},
   "outputs": [
    {
     "data": {
      "text/plain": [
       "100149"
      ]
     },
     "execution_count": 35,
     "metadata": {},
     "output_type": "execute_result"
    }
   ],
   "source": [
    "Q2_2.Acceptability.isna().sum()"
   ]
  },
  {
   "cell_type": "code",
   "execution_count": 36,
   "id": "novel-prison",
   "metadata": {},
   "outputs": [],
   "source": [
    "Q2_3=Q2_2.dropna(subset=['Acceptability'])"
   ]
  },
  {
   "cell_type": "code",
   "execution_count": 37,
   "id": "trained-jordan",
   "metadata": {},
   "outputs": [
    {
     "data": {
      "text/plain": [
       "1.0    3790\n",
       "0.0    1208\n",
       "Name: Acceptability, dtype: int64"
      ]
     },
     "execution_count": 37,
     "metadata": {},
     "output_type": "execute_result"
    }
   ],
   "source": [
    "Q2_3.Acceptability.value_counts()"
   ]
  },
  {
   "cell_type": "code",
   "execution_count": 38,
   "id": "black-tobacco",
   "metadata": {},
   "outputs": [],
   "source": [
    "Q2_2.Acceptability=Q2_2.Acceptability"
   ]
  },
  {
   "cell_type": "code",
   "execution_count": 39,
   "id": "married-amount",
   "metadata": {},
   "outputs": [],
   "source": [
    "train, test=train_test_split(Q2_3, test_size=0.3, \n",
    "                 random_state=123, \n",
    "                 stratify=Q2_3.Acceptability)"
   ]
  },
  {
   "cell_type": "code",
   "execution_count": 40,
   "id": "ordinary-employment",
   "metadata": {},
   "outputs": [
    {
     "data": {
      "text/plain": [
       "3498"
      ]
     },
     "execution_count": 40,
     "metadata": {},
     "output_type": "execute_result"
    }
   ],
   "source": [
    "len(train)"
   ]
  },
  {
   "cell_type": "code",
   "execution_count": 41,
   "id": "equipped-lloyd",
   "metadata": {},
   "outputs": [
    {
     "data": {
      "text/plain": [
       "1500"
      ]
     },
     "execution_count": 41,
     "metadata": {},
     "output_type": "execute_result"
    }
   ],
   "source": [
    "len(test)"
   ]
  },
  {
   "cell_type": "markdown",
   "id": "ignored-secret",
   "metadata": {},
   "source": [
    "2. (단계 1-3. 생성된 데이터셋 이용) 음질의 만족 여부(Acceptability)를 예측하는 KNN 분류 모델을 만드시오.\n",
    " - Train Data 사용\n",
    " - 독립변수(총 6개): 신호 강도(Signal), 전송 속도(Speed), 두 지점 간의 거리(Distance), 통화 연결 시간(SetupTime), 통신망 유형(TestTechnology)의 가변수(2개)\n",
    "생성된 모델에 Test 데이터를 적용하여 음질의 만족 여부(Acceptability)를 예측한 후 모델의 성능평가로 AUC(the Area Under a ROC Curve) 값을 기술하시오.\n",
    "- KNN 분류 모델 가이드 : K=5\n",
    "- AUC 값은 소수점 셋째 자리 이하는 버리고 둘째 자리까지 기술\n",
    "정답\t0.93"
   ]
  },
  {
   "cell_type": "code",
   "execution_count": 42,
   "id": "determined-transparency",
   "metadata": {},
   "outputs": [
    {
     "data": {
      "text/plain": [
       "Index(['Date', 'Signal', 'Speed', 'Distance', 'Manufacturer', 'TestResult',\n",
       "       'SetupTime', 'MOS', 'Acceptability', 'TestTechnology_LTE',\n",
       "       'TestTechnology_UMTS', 'Day_목요일', 'Day_수요일', 'Day_월요일', 'Day_일요일',\n",
       "       'Day_토요일', 'Day_화요일', 'TestTechnology'],\n",
       "      dtype='object')"
      ]
     },
     "execution_count": 42,
     "metadata": {},
     "output_type": "execute_result"
    }
   ],
   "source": [
    "train.columns"
   ]
  },
  {
   "cell_type": "code",
   "execution_count": 43,
   "id": "possible-diving",
   "metadata": {},
   "outputs": [],
   "source": [
    "x_var1=['Signal','Speed','Distance', 'SetupTime','TestTechnology_LTE','TestTechnology_UMTS' ]\n",
    "Q2_KNN=KNeighborsClassifier(5).fit(train[x_var1], train['Acceptability'])\n",
    "\n",
    "Q2_pred=Q2_KNN.predict_proba(test[x_var1])"
   ]
  },
  {
   "cell_type": "code",
   "execution_count": 44,
   "id": "aggressive-promotion",
   "metadata": {},
   "outputs": [
    {
     "data": {
      "text/plain": [
       "array([[1. , 0. ],\n",
       "       [0.4, 0.6],\n",
       "       [0.8, 0.2],\n",
       "       ...,\n",
       "       [0. , 1. ],\n",
       "       [0. , 1. ],\n",
       "       [0. , 1. ]])"
      ]
     },
     "execution_count": 44,
     "metadata": {},
     "output_type": "execute_result"
    }
   ],
   "source": [
    "Q2_pred"
   ]
  },
  {
   "cell_type": "code",
   "execution_count": 45,
   "id": "special-beverage",
   "metadata": {},
   "outputs": [
    {
     "name": "stdout",
     "output_type": "stream",
     "text": [
      "Q2 정답:  0.9126828370052165\n"
     ]
    }
   ],
   "source": [
    "Q2_ans=roc_auc_score(test['Acceptability'], Q2_pred[:,1])\n",
    "print('Q2 정답: ', Q2_ans)  # 0.9126828370052165"
   ]
  },
  {
   "cell_type": "markdown",
   "id": "handmade-soviet",
   "metadata": {},
   "source": [
    "3. 음질의 만족 여부(Acceptability ,Target)를 예측하는 모델을 Decision Tree 알고리즘을 이용하여 만들고자 한다. 통신망 유형(TestTechnology)별로 분리해서 모델을 다음 조건에 따라 만드시오.\n",
    " - Train Data 사용\n",
    "- 독립변수(총 10개): 신호 강도(Signal), 전송 속도(Speed), 두 지점 간의 거리(Distance), 통화 연결 시간(SetupTime), 요일의 가변수(6개)\n",
    " \n",
    "이 모델에 Test데이터를 적용하여 음질의 만족 여부(Target)를 예측한 후 정확도(Accuracy) 값을 기술하시오.\n",
    "- [Decision Tree 모델 가이드] \n",
    "분순도 기준: Gini, Max Depth: 7, Min Samples Splits: 5, Seed: 1234, 그 외: Default\n",
    "- 정확도(Accuracy) 값은 소수점 셋째 자리까지 기술, 이후 자리는 절삭.\n",
    "정답\t0.904"
   ]
  },
  {
   "cell_type": "code",
   "execution_count": 46,
   "id": "placed-venice",
   "metadata": {},
   "outputs": [],
   "source": [
    "x_var2=['Signal','Speed','Distance', 'SetupTime', \n",
    "        'Day_목요일', 'Day_수요일', 'Day_월요일', 'Day_일요일','Day_토요일', 'Day_화요일']"
   ]
  },
  {
   "cell_type": "code",
   "execution_count": 47,
   "id": "13bdd93b",
   "metadata": {},
   "outputs": [
    {
     "data": {
      "text/plain": [
       "array(['LTE', 'UMTS', 'GSM'], dtype=object)"
      ]
     },
     "execution_count": 47,
     "metadata": {},
     "output_type": "execute_result"
    }
   ],
   "source": [
    "train.TestTechnology.unique()"
   ]
  },
  {
   "cell_type": "code",
   "execution_count": 48,
   "id": "a72cba53",
   "metadata": {},
   "outputs": [
    {
     "data": {
      "text/plain": [
       "Index(['Date', 'Signal', 'Speed', 'Distance', 'Manufacturer', 'TestResult',\n",
       "       'SetupTime', 'MOS', 'Acceptability', 'TestTechnology_LTE',\n",
       "       'TestTechnology_UMTS', 'Day_목요일', 'Day_수요일', 'Day_월요일', 'Day_일요일',\n",
       "       'Day_토요일', 'Day_화요일', 'TestTechnology'],\n",
       "      dtype='object')"
      ]
     },
     "execution_count": 48,
     "metadata": {},
     "output_type": "execute_result"
    }
   ],
   "source": [
    "train.columns"
   ]
  },
  {
   "cell_type": "code",
   "execution_count": 49,
   "id": "legendary-caution",
   "metadata": {},
   "outputs": [],
   "source": [
    "for i in train.TestTechnology.unique():\n",
    "    temp=train[train.TestTechnology==i]\n",
    "    globals()['dt_'+str(i)]=DecisionTreeClassifier(max_depth=6,\n",
    "                           min_samples_split=5, \n",
    "                           random_state=1234).fit(temp[x_var2], temp['Acceptability'])"
   ]
  },
  {
   "cell_type": "code",
   "execution_count": 50,
   "id": "sound-belly",
   "metadata": {},
   "outputs": [],
   "source": [
    "pred=[]\n",
    "target=[]\n",
    "for i in test.TestTechnology.unique():\n",
    "    temp=test[test.TestTechnology==i]\n",
    "    pred1=eval('dt_'+str(i)).predict(temp[x_var2])\n",
    "    # target.append(temp['Acceptability'])\n",
    "    target=target+list(temp['Acceptability'])\n",
    "    pred=pred+list(pred1)\n",
    "    "
   ]
  },
  {
   "cell_type": "code",
   "execution_count": 51,
   "id": "interior-sweden",
   "metadata": {},
   "outputs": [
    {
     "data": {
      "text/plain": [
       "[0.0,\n",
       " 0.0,\n",
       " 0.0,\n",
       " 0.0,\n",
       " 0.0,\n",
       " 0.0,\n",
       " 0.0,\n",
       " 0.0,\n",
       " 0.0,\n",
       " 0.0,\n",
       " 0.0,\n",
       " 0.0,\n",
       " 0.0,\n",
       " 0.0,\n",
       " 1.0,\n",
       " 0.0,\n",
       " 1.0,\n",
       " 0.0,\n",
       " 0.0,\n",
       " 1.0,\n",
       " 1.0,\n",
       " 0.0,\n",
       " 0.0,\n",
       " 0.0,\n",
       " 1.0,\n",
       " 0.0,\n",
       " 1.0,\n",
       " 0.0,\n",
       " 0.0,\n",
       " 0.0,\n",
       " 1.0,\n",
       " 0.0,\n",
       " 1.0,\n",
       " 0.0,\n",
       " 0.0,\n",
       " 1.0,\n",
       " 0.0,\n",
       " 1.0,\n",
       " 0.0,\n",
       " 1.0,\n",
       " 0.0,\n",
       " 1.0,\n",
       " 0.0,\n",
       " 0.0,\n",
       " 0.0,\n",
       " 0.0,\n",
       " 1.0,\n",
       " 0.0,\n",
       " 1.0,\n",
       " 0.0,\n",
       " 1.0,\n",
       " 0.0,\n",
       " 0.0,\n",
       " 1.0,\n",
       " 1.0,\n",
       " 0.0,\n",
       " 1.0,\n",
       " 0.0,\n",
       " 0.0,\n",
       " 0.0,\n",
       " 0.0,\n",
       " 0.0,\n",
       " 1.0,\n",
       " 0.0,\n",
       " 1.0,\n",
       " 0.0,\n",
       " 1.0,\n",
       " 0.0,\n",
       " 0.0,\n",
       " 0.0,\n",
       " 0.0,\n",
       " 1.0,\n",
       " 0.0,\n",
       " 0.0,\n",
       " 0.0,\n",
       " 0.0,\n",
       " 1.0,\n",
       " 1.0,\n",
       " 1.0,\n",
       " 0.0,\n",
       " 0.0,\n",
       " 0.0,\n",
       " 1.0,\n",
       " 0.0,\n",
       " 0.0,\n",
       " 0.0,\n",
       " 1.0,\n",
       " 0.0,\n",
       " 0.0,\n",
       " 1.0,\n",
       " 0.0,\n",
       " 0.0,\n",
       " 1.0,\n",
       " 1.0,\n",
       " 0.0,\n",
       " 0.0,\n",
       " 1.0,\n",
       " 1.0,\n",
       " 0.0,\n",
       " 0.0,\n",
       " 0.0,\n",
       " 0.0,\n",
       " 1.0,\n",
       " 0.0,\n",
       " 1.0,\n",
       " 0.0,\n",
       " 0.0,\n",
       " 0.0,\n",
       " 1.0,\n",
       " 0.0,\n",
       " 0.0,\n",
       " 0.0,\n",
       " 0.0,\n",
       " 1.0,\n",
       " 0.0,\n",
       " 0.0,\n",
       " 0.0,\n",
       " 1.0,\n",
       " 0.0,\n",
       " 1.0,\n",
       " 0.0,\n",
       " 0.0,\n",
       " 0.0,\n",
       " 0.0,\n",
       " 0.0,\n",
       " 0.0,\n",
       " 1.0,\n",
       " 1.0,\n",
       " 1.0,\n",
       " 1.0,\n",
       " 0.0,\n",
       " 0.0,\n",
       " 0.0,\n",
       " 0.0,\n",
       " 1.0,\n",
       " 0.0,\n",
       " 0.0,\n",
       " 0.0,\n",
       " 1.0,\n",
       " 0.0,\n",
       " 1.0,\n",
       " 1.0,\n",
       " 1.0,\n",
       " 0.0,\n",
       " 1.0,\n",
       " 1.0,\n",
       " 0.0,\n",
       " 1.0,\n",
       " 0.0,\n",
       " 1.0,\n",
       " 1.0,\n",
       " 0.0,\n",
       " 1.0,\n",
       " 1.0,\n",
       " 0.0,\n",
       " 1.0,\n",
       " 1.0,\n",
       " 1.0,\n",
       " 0.0,\n",
       " 0.0,\n",
       " 1.0,\n",
       " 1.0,\n",
       " 0.0,\n",
       " 0.0,\n",
       " 0.0,\n",
       " 1.0,\n",
       " 0.0,\n",
       " 0.0,\n",
       " 1.0,\n",
       " 0.0,\n",
       " 0.0,\n",
       " 0.0,\n",
       " 0.0,\n",
       " 1.0,\n",
       " 0.0,\n",
       " 1.0,\n",
       " 0.0,\n",
       " 0.0,\n",
       " 0.0,\n",
       " 0.0,\n",
       " 1.0,\n",
       " 0.0,\n",
       " 1.0,\n",
       " 0.0,\n",
       " 0.0,\n",
       " 1.0,\n",
       " 0.0,\n",
       " 1.0,\n",
       " 0.0,\n",
       " 1.0,\n",
       " 0.0,\n",
       " 0.0,\n",
       " 0.0,\n",
       " 1.0,\n",
       " 0.0,\n",
       " 1.0,\n",
       " 0.0,\n",
       " 0.0,\n",
       " 0.0,\n",
       " 0.0,\n",
       " 0.0,\n",
       " 0.0,\n",
       " 0.0,\n",
       " 1.0,\n",
       " 0.0,\n",
       " 1.0,\n",
       " 0.0,\n",
       " 0.0,\n",
       " 0.0,\n",
       " 0.0,\n",
       " 0.0,\n",
       " 1.0,\n",
       " 0.0,\n",
       " 0.0,\n",
       " 0.0,\n",
       " 0.0,\n",
       " 1.0,\n",
       " 0.0,\n",
       " 0.0,\n",
       " 0.0,\n",
       " 0.0,\n",
       " 1.0,\n",
       " 0.0,\n",
       " 0.0,\n",
       " 0.0,\n",
       " 0.0,\n",
       " 1.0,\n",
       " 1.0,\n",
       " 0.0,\n",
       " 1.0,\n",
       " 0.0,\n",
       " 0.0,\n",
       " 0.0,\n",
       " 0.0,\n",
       " 0.0,\n",
       " 1.0,\n",
       " 0.0,\n",
       " 0.0,\n",
       " 0.0,\n",
       " 1.0,\n",
       " 0.0,\n",
       " 1.0,\n",
       " 0.0,\n",
       " 0.0,\n",
       " 0.0,\n",
       " 0.0,\n",
       " 0.0,\n",
       " 1.0,\n",
       " 0.0,\n",
       " 0.0,\n",
       " 0.0,\n",
       " 1.0,\n",
       " 0.0,\n",
       " 0.0,\n",
       " 0.0,\n",
       " 0.0,\n",
       " 1.0,\n",
       " 0.0,\n",
       " 0.0,\n",
       " 1.0,\n",
       " 1.0,\n",
       " 1.0,\n",
       " 0.0,\n",
       " 0.0,\n",
       " 0.0,\n",
       " 0.0,\n",
       " 1.0,\n",
       " 0.0,\n",
       " 1.0,\n",
       " 0.0,\n",
       " 0.0,\n",
       " 1.0,\n",
       " 0.0,\n",
       " 0.0,\n",
       " 0.0,\n",
       " 0.0,\n",
       " 0.0,\n",
       " 0.0,\n",
       " 1.0,\n",
       " 1.0,\n",
       " 1.0,\n",
       " 0.0,\n",
       " 1.0,\n",
       " 0.0,\n",
       " 1.0,\n",
       " 0.0,\n",
       " 0.0,\n",
       " 0.0,\n",
       " 1.0,\n",
       " 1.0,\n",
       " 0.0,\n",
       " 1.0,\n",
       " 0.0,\n",
       " 0.0,\n",
       " 0.0,\n",
       " 1.0,\n",
       " 1.0,\n",
       " 0.0,\n",
       " 1.0,\n",
       " 1.0,\n",
       " 0.0,\n",
       " 0.0,\n",
       " 0.0,\n",
       " 1.0,\n",
       " 1.0,\n",
       " 1.0,\n",
       " 0.0,\n",
       " 0.0,\n",
       " 0.0,\n",
       " 1.0,\n",
       " 0.0,\n",
       " 0.0,\n",
       " 0.0,\n",
       " 0.0,\n",
       " 0.0,\n",
       " 0.0,\n",
       " 0.0,\n",
       " 0.0,\n",
       " 0.0,\n",
       " 0.0,\n",
       " 0.0,\n",
       " 0.0,\n",
       " 0.0,\n",
       " 1.0,\n",
       " 0.0,\n",
       " 0.0,\n",
       " 0.0,\n",
       " 0.0,\n",
       " 0.0,\n",
       " 0.0,\n",
       " 0.0,\n",
       " 0.0,\n",
       " 0.0,\n",
       " 0.0,\n",
       " 0.0,\n",
       " 1.0,\n",
       " 0.0,\n",
       " 0.0,\n",
       " 0.0,\n",
       " 0.0,\n",
       " 0.0,\n",
       " 1.0,\n",
       " 0.0,\n",
       " 0.0,\n",
       " 0.0,\n",
       " 0.0,\n",
       " 0.0,\n",
       " 0.0,\n",
       " 0.0,\n",
       " 0.0,\n",
       " 0.0,\n",
       " 0.0,\n",
       " 0.0,\n",
       " 0.0,\n",
       " 1.0,\n",
       " 0.0,\n",
       " 0.0,\n",
       " 1.0,\n",
       " 0.0,\n",
       " 0.0,\n",
       " 1.0,\n",
       " 1.0,\n",
       " 1.0,\n",
       " 0.0,\n",
       " 1.0,\n",
       " 0.0,\n",
       " 0.0,\n",
       " 0.0,\n",
       " 0.0,\n",
       " 1.0,\n",
       " 0.0,\n",
       " 1.0,\n",
       " 0.0,\n",
       " 1.0,\n",
       " 0.0,\n",
       " 0.0,\n",
       " 0.0,\n",
       " 0.0,\n",
       " 0.0,\n",
       " 1.0,\n",
       " 0.0,\n",
       " 0.0,\n",
       " 0.0,\n",
       " 0.0,\n",
       " 0.0,\n",
       " 0.0,\n",
       " 1.0,\n",
       " 0.0,\n",
       " 0.0,\n",
       " 1.0,\n",
       " 0.0,\n",
       " 1.0,\n",
       " 1.0,\n",
       " 0.0,\n",
       " 0.0,\n",
       " 1.0,\n",
       " 0.0,\n",
       " 0.0,\n",
       " 1.0,\n",
       " 1.0,\n",
       " 1.0,\n",
       " 0.0,\n",
       " 0.0,\n",
       " 0.0,\n",
       " 0.0,\n",
       " 0.0,\n",
       " 0.0,\n",
       " 0.0,\n",
       " 1.0,\n",
       " 0.0,\n",
       " 0.0,\n",
       " 0.0,\n",
       " 0.0,\n",
       " 1.0,\n",
       " 1.0,\n",
       " 0.0,\n",
       " 0.0,\n",
       " 0.0,\n",
       " 0.0,\n",
       " 0.0,\n",
       " 1.0,\n",
       " 0.0,\n",
       " 0.0,\n",
       " 0.0,\n",
       " 0.0,\n",
       " 0.0,\n",
       " 0.0,\n",
       " 0.0,\n",
       " 0.0,\n",
       " 0.0,\n",
       " 0.0,\n",
       " 0.0,\n",
       " 0.0,\n",
       " 1.0,\n",
       " 0.0,\n",
       " 1.0,\n",
       " 1.0,\n",
       " 1.0,\n",
       " 0.0,\n",
       " 0.0,\n",
       " 0.0,\n",
       " 0.0,\n",
       " 0.0,\n",
       " 1.0,\n",
       " 0.0,\n",
       " 0.0,\n",
       " 0.0,\n",
       " 0.0,\n",
       " 0.0,\n",
       " 0.0,\n",
       " 0.0,\n",
       " 1.0,\n",
       " 0.0,\n",
       " 1.0,\n",
       " 1.0,\n",
       " 1.0,\n",
       " 0.0,\n",
       " 0.0,\n",
       " 0.0,\n",
       " 1.0,\n",
       " 0.0,\n",
       " 0.0,\n",
       " 0.0,\n",
       " 0.0,\n",
       " 0.0,\n",
       " 1.0,\n",
       " 0.0,\n",
       " 0.0,\n",
       " 0.0,\n",
       " 0.0,\n",
       " 0.0,\n",
       " 1.0,\n",
       " 0.0,\n",
       " 0.0,\n",
       " 1.0,\n",
       " 1.0,\n",
       " 0.0,\n",
       " 1.0,\n",
       " 1.0,\n",
       " 0.0,\n",
       " 0.0,\n",
       " 0.0,\n",
       " 0.0,\n",
       " 0.0,\n",
       " 1.0,\n",
       " 0.0,\n",
       " 0.0,\n",
       " 1.0,\n",
       " 1.0,\n",
       " 0.0,\n",
       " 1.0,\n",
       " 0.0,\n",
       " 1.0,\n",
       " 1.0,\n",
       " 0.0,\n",
       " 0.0,\n",
       " 1.0,\n",
       " 0.0,\n",
       " 0.0,\n",
       " 0.0,\n",
       " 0.0,\n",
       " 0.0,\n",
       " 1.0,\n",
       " 0.0,\n",
       " 0.0,\n",
       " 0.0,\n",
       " 0.0,\n",
       " 1.0,\n",
       " 0.0,\n",
       " 0.0,\n",
       " 1.0,\n",
       " 1.0,\n",
       " 1.0,\n",
       " 1.0,\n",
       " 1.0,\n",
       " 1.0,\n",
       " 1.0,\n",
       " 1.0,\n",
       " 1.0,\n",
       " 1.0,\n",
       " 1.0,\n",
       " 1.0,\n",
       " 1.0,\n",
       " 1.0,\n",
       " 1.0,\n",
       " 1.0,\n",
       " 1.0,\n",
       " 1.0,\n",
       " 1.0,\n",
       " 1.0,\n",
       " 1.0,\n",
       " 1.0,\n",
       " 1.0,\n",
       " 1.0,\n",
       " 1.0,\n",
       " 1.0,\n",
       " 1.0,\n",
       " 1.0,\n",
       " 1.0,\n",
       " 1.0,\n",
       " 1.0,\n",
       " 1.0,\n",
       " 1.0,\n",
       " 1.0,\n",
       " 1.0,\n",
       " 1.0,\n",
       " 1.0,\n",
       " 1.0,\n",
       " 1.0,\n",
       " 1.0,\n",
       " 1.0,\n",
       " 1.0,\n",
       " 1.0,\n",
       " 1.0,\n",
       " 1.0,\n",
       " 1.0,\n",
       " 1.0,\n",
       " 1.0,\n",
       " 1.0,\n",
       " 1.0,\n",
       " 1.0,\n",
       " 1.0,\n",
       " 1.0,\n",
       " 1.0,\n",
       " 1.0,\n",
       " 1.0,\n",
       " 1.0,\n",
       " 1.0,\n",
       " 1.0,\n",
       " 1.0,\n",
       " 1.0,\n",
       " 1.0,\n",
       " 1.0,\n",
       " 1.0,\n",
       " 1.0,\n",
       " 1.0,\n",
       " 1.0,\n",
       " 1.0,\n",
       " 1.0,\n",
       " 1.0,\n",
       " 1.0,\n",
       " 1.0,\n",
       " 1.0,\n",
       " 1.0,\n",
       " 1.0,\n",
       " 1.0,\n",
       " 1.0,\n",
       " 1.0,\n",
       " 1.0,\n",
       " 1.0,\n",
       " 1.0,\n",
       " 1.0,\n",
       " 1.0,\n",
       " 1.0,\n",
       " 1.0,\n",
       " 1.0,\n",
       " 1.0,\n",
       " 1.0,\n",
       " 1.0,\n",
       " 1.0,\n",
       " 1.0,\n",
       " 1.0,\n",
       " 1.0,\n",
       " 1.0,\n",
       " 1.0,\n",
       " 1.0,\n",
       " 1.0,\n",
       " 1.0,\n",
       " 1.0,\n",
       " 1.0,\n",
       " 1.0,\n",
       " 1.0,\n",
       " 1.0,\n",
       " 1.0,\n",
       " 1.0,\n",
       " 1.0,\n",
       " 1.0,\n",
       " 1.0,\n",
       " 1.0,\n",
       " 1.0,\n",
       " 1.0,\n",
       " 1.0,\n",
       " 1.0,\n",
       " 1.0,\n",
       " 1.0,\n",
       " 1.0,\n",
       " 1.0,\n",
       " 1.0,\n",
       " 1.0,\n",
       " 1.0,\n",
       " 1.0,\n",
       " 1.0,\n",
       " 1.0,\n",
       " 1.0,\n",
       " 1.0,\n",
       " 1.0,\n",
       " 1.0,\n",
       " 1.0,\n",
       " 1.0,\n",
       " 1.0,\n",
       " 1.0,\n",
       " 1.0,\n",
       " 1.0,\n",
       " 1.0,\n",
       " 1.0,\n",
       " 1.0,\n",
       " 1.0,\n",
       " 1.0,\n",
       " 1.0,\n",
       " 1.0,\n",
       " 1.0,\n",
       " 1.0,\n",
       " 1.0,\n",
       " 1.0,\n",
       " 1.0,\n",
       " 1.0,\n",
       " 1.0,\n",
       " 1.0,\n",
       " 1.0,\n",
       " 1.0,\n",
       " 1.0,\n",
       " 1.0,\n",
       " 1.0,\n",
       " 1.0,\n",
       " 1.0,\n",
       " 1.0,\n",
       " 1.0,\n",
       " 1.0,\n",
       " 1.0,\n",
       " 1.0,\n",
       " 1.0,\n",
       " 1.0,\n",
       " 1.0,\n",
       " 1.0,\n",
       " 1.0,\n",
       " 1.0,\n",
       " 1.0,\n",
       " 1.0,\n",
       " 1.0,\n",
       " 1.0,\n",
       " 1.0,\n",
       " 1.0,\n",
       " 1.0,\n",
       " 1.0,\n",
       " 1.0,\n",
       " 1.0,\n",
       " 1.0,\n",
       " 1.0,\n",
       " 1.0,\n",
       " 1.0,\n",
       " 1.0,\n",
       " 1.0,\n",
       " 1.0,\n",
       " 1.0,\n",
       " 1.0,\n",
       " 1.0,\n",
       " 1.0,\n",
       " 1.0,\n",
       " 1.0,\n",
       " 1.0,\n",
       " 1.0,\n",
       " 1.0,\n",
       " 1.0,\n",
       " 1.0,\n",
       " 1.0,\n",
       " 1.0,\n",
       " 1.0,\n",
       " 1.0,\n",
       " 1.0,\n",
       " 1.0,\n",
       " 1.0,\n",
       " 1.0,\n",
       " 1.0,\n",
       " 1.0,\n",
       " 1.0,\n",
       " 1.0,\n",
       " 1.0,\n",
       " 1.0,\n",
       " 1.0,\n",
       " 1.0,\n",
       " 1.0,\n",
       " 1.0,\n",
       " 1.0,\n",
       " 1.0,\n",
       " 1.0,\n",
       " 1.0,\n",
       " 1.0,\n",
       " 1.0,\n",
       " 1.0,\n",
       " 1.0,\n",
       " 1.0,\n",
       " 1.0,\n",
       " 1.0,\n",
       " 1.0,\n",
       " 1.0,\n",
       " 1.0,\n",
       " 1.0,\n",
       " 1.0,\n",
       " 1.0,\n",
       " 1.0,\n",
       " 1.0,\n",
       " 1.0,\n",
       " 1.0,\n",
       " 1.0,\n",
       " 1.0,\n",
       " 1.0,\n",
       " 1.0,\n",
       " 1.0,\n",
       " 1.0,\n",
       " 1.0,\n",
       " 1.0,\n",
       " 1.0,\n",
       " 1.0,\n",
       " 1.0,\n",
       " 1.0,\n",
       " 1.0,\n",
       " 1.0,\n",
       " 1.0,\n",
       " 1.0,\n",
       " 1.0,\n",
       " 1.0,\n",
       " 1.0,\n",
       " 1.0,\n",
       " 1.0,\n",
       " 1.0,\n",
       " 1.0,\n",
       " 1.0,\n",
       " 1.0,\n",
       " 1.0,\n",
       " 1.0,\n",
       " 1.0,\n",
       " 1.0,\n",
       " 1.0,\n",
       " 1.0,\n",
       " 1.0,\n",
       " 1.0,\n",
       " 1.0,\n",
       " 1.0,\n",
       " 1.0,\n",
       " 1.0,\n",
       " 1.0,\n",
       " 1.0,\n",
       " 1.0,\n",
       " 1.0,\n",
       " 1.0,\n",
       " 1.0,\n",
       " 1.0,\n",
       " 1.0,\n",
       " 1.0,\n",
       " 1.0,\n",
       " 1.0,\n",
       " 1.0,\n",
       " 1.0,\n",
       " 1.0,\n",
       " 1.0,\n",
       " 1.0,\n",
       " 1.0,\n",
       " 1.0,\n",
       " 1.0,\n",
       " 1.0,\n",
       " 1.0,\n",
       " 1.0,\n",
       " 1.0,\n",
       " 1.0,\n",
       " 1.0,\n",
       " 1.0,\n",
       " 1.0,\n",
       " 1.0,\n",
       " 1.0,\n",
       " 1.0,\n",
       " 1.0,\n",
       " 1.0,\n",
       " 1.0,\n",
       " 1.0,\n",
       " 1.0,\n",
       " 1.0,\n",
       " 1.0,\n",
       " 1.0,\n",
       " 1.0,\n",
       " 1.0,\n",
       " 1.0,\n",
       " 1.0,\n",
       " 1.0,\n",
       " 1.0,\n",
       " 1.0,\n",
       " 1.0,\n",
       " 1.0,\n",
       " 1.0,\n",
       " 1.0,\n",
       " 1.0,\n",
       " 1.0,\n",
       " 1.0,\n",
       " 1.0,\n",
       " 1.0,\n",
       " 1.0,\n",
       " 1.0,\n",
       " 1.0,\n",
       " 1.0,\n",
       " 1.0,\n",
       " 1.0,\n",
       " 1.0,\n",
       " 1.0,\n",
       " 1.0,\n",
       " 1.0,\n",
       " 1.0,\n",
       " 1.0,\n",
       " 1.0,\n",
       " 1.0,\n",
       " 1.0,\n",
       " 1.0,\n",
       " 1.0,\n",
       " 1.0,\n",
       " 1.0,\n",
       " 1.0,\n",
       " 1.0,\n",
       " 1.0,\n",
       " 1.0,\n",
       " 1.0,\n",
       " 1.0,\n",
       " 1.0,\n",
       " 1.0,\n",
       " 1.0,\n",
       " 1.0,\n",
       " 1.0,\n",
       " 1.0,\n",
       " 1.0,\n",
       " 1.0,\n",
       " 1.0,\n",
       " 1.0,\n",
       " 1.0,\n",
       " 1.0,\n",
       " 1.0,\n",
       " 1.0,\n",
       " 1.0,\n",
       " 1.0,\n",
       " 1.0,\n",
       " 1.0,\n",
       " 1.0,\n",
       " 1.0,\n",
       " 1.0,\n",
       " 1.0,\n",
       " 1.0,\n",
       " 1.0,\n",
       " 1.0,\n",
       " 1.0,\n",
       " 1.0,\n",
       " 1.0,\n",
       " 1.0,\n",
       " 1.0,\n",
       " 1.0,\n",
       " 1.0,\n",
       " 1.0,\n",
       " 1.0,\n",
       " 1.0,\n",
       " 1.0,\n",
       " 1.0,\n",
       " 1.0,\n",
       " 1.0,\n",
       " 1.0,\n",
       " 1.0,\n",
       " 1.0,\n",
       " 1.0,\n",
       " 1.0,\n",
       " 1.0,\n",
       " 1.0,\n",
       " 1.0,\n",
       " 1.0,\n",
       " 1.0,\n",
       " 1.0,\n",
       " 1.0,\n",
       " 1.0,\n",
       " 1.0,\n",
       " 1.0,\n",
       " 1.0,\n",
       " 1.0,\n",
       " 1.0,\n",
       " 1.0,\n",
       " 1.0,\n",
       " 1.0,\n",
       " 1.0,\n",
       " 1.0,\n",
       " 1.0,\n",
       " 1.0,\n",
       " 1.0,\n",
       " 1.0,\n",
       " 1.0,\n",
       " 1.0,\n",
       " 1.0,\n",
       " 1.0,\n",
       " 1.0,\n",
       " 1.0,\n",
       " 1.0,\n",
       " 1.0,\n",
       " 1.0,\n",
       " 1.0,\n",
       " 1.0,\n",
       " 1.0,\n",
       " 1.0,\n",
       " 1.0,\n",
       " 1.0,\n",
       " 1.0,\n",
       " 1.0,\n",
       " 1.0,\n",
       " 1.0,\n",
       " 1.0,\n",
       " 1.0,\n",
       " 1.0,\n",
       " 1.0,\n",
       " 1.0,\n",
       " 1.0,\n",
       " 1.0,\n",
       " 1.0,\n",
       " 1.0,\n",
       " 1.0,\n",
       " 1.0,\n",
       " 1.0,\n",
       " 1.0,\n",
       " 1.0,\n",
       " 1.0,\n",
       " 1.0,\n",
       " 1.0,\n",
       " 1.0,\n",
       " 1.0,\n",
       " 1.0,\n",
       " 1.0,\n",
       " 1.0,\n",
       " 1.0,\n",
       " 1.0,\n",
       " 1.0,\n",
       " 1.0,\n",
       " 1.0,\n",
       " 1.0,\n",
       " 1.0,\n",
       " 1.0,\n",
       " 1.0,\n",
       " 1.0,\n",
       " 1.0,\n",
       " 1.0,\n",
       " 1.0,\n",
       " 1.0,\n",
       " 1.0,\n",
       " 1.0,\n",
       " 1.0,\n",
       " 1.0,\n",
       " 1.0,\n",
       " 1.0,\n",
       " 1.0,\n",
       " 1.0,\n",
       " 1.0,\n",
       " 1.0,\n",
       " 1.0,\n",
       " 1.0,\n",
       " 1.0,\n",
       " 1.0,\n",
       " 1.0,\n",
       " 1.0,\n",
       " 1.0,\n",
       " 1.0,\n",
       " 1.0,\n",
       " 1.0,\n",
       " ...]"
      ]
     },
     "execution_count": 51,
     "metadata": {},
     "output_type": "execute_result"
    }
   ],
   "source": [
    "target"
   ]
  },
  {
   "cell_type": "code",
   "execution_count": 52,
   "id": "representative-volunteer",
   "metadata": {},
   "outputs": [
    {
     "data": {
      "text/plain": [
       "array([[ 330,   33],\n",
       "       [ 109, 1028]], dtype=int64)"
      ]
     },
     "execution_count": 52,
     "metadata": {},
     "output_type": "execute_result"
    }
   ],
   "source": [
    "from sklearn.metrics import confusion_matrix\n",
    "\n",
    "confusion_matrix(target, pred)"
   ]
  },
  {
   "cell_type": "code",
   "execution_count": 53,
   "id": "consolidated-adult",
   "metadata": {},
   "outputs": [
    {
     "name": "stdout",
     "output_type": "stream",
     "text": [
      "Q3 정답:  0.9053333333333333\n"
     ]
    }
   ],
   "source": [
    "Q3_ans=accuracy_score(target, pred)\n",
    "print('Q3 정답: ', Q3_ans)  # 0.898"
   ]
  },
  {
   "cell_type": "code",
   "execution_count": null,
   "id": "crucial-alloy",
   "metadata": {},
   "outputs": [],
   "source": []
  }
 ],
 "metadata": {
  "kernelspec": {
   "display_name": "Python 3 (ipykernel)",
   "language": "python",
   "name": "python3"
  },
  "language_info": {
   "codemirror_mode": {
    "name": "ipython",
    "version": 3
   },
   "file_extension": ".py",
   "mimetype": "text/x-python",
   "name": "python",
   "nbconvert_exporter": "python",
   "pygments_lexer": "ipython3",
   "version": "3.7.4"
  }
 },
 "nbformat": 4,
 "nbformat_minor": 5
}
